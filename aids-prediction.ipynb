{
 "cells": [
  {
   "cell_type": "code",
   "execution_count": 1,
   "id": "c3be6ca8",
   "metadata": {
    "_cell_guid": "b1076dfc-b9ad-4769-8c92-a6c4dae69d19",
    "_uuid": "8f2839f25d086af736a60e9eeb907d3b93b6e0e5",
    "execution": {
     "iopub.execute_input": "2024-05-02T19:49:56.267048Z",
     "iopub.status.busy": "2024-05-02T19:49:56.266511Z",
     "iopub.status.idle": "2024-05-02T19:49:58.652513Z",
     "shell.execute_reply": "2024-05-02T19:49:58.650948Z"
    },
    "papermill": {
     "duration": 2.396564,
     "end_time": "2024-05-02T19:49:58.655048",
     "exception": false,
     "start_time": "2024-05-02T19:49:56.258484",
     "status": "completed"
    },
    "tags": []
   },
   "outputs": [
    {
     "name": "stdout",
     "output_type": "stream",
     "text": [
      "/kaggle/input/aids-virus-infection-prediction/AIDS_Classification_15000.csv\n",
      "/kaggle/input/aids-virus-infection-prediction/AIDS_Classification_50000.csv\n",
      "/kaggle/input/aids-virus-infection-prediction/AIDS_Classification.csv\n",
      "/kaggle/input/aids-virus-infection-prediction/AIDS_Classification_5000.csv\n"
     ]
    }
   ],
   "source": [
    "#i do apply to prevent model overfitting technique on this datset like Ridge regressin,\n",
    "#lasso_regression and elastic net regression.\n",
    "# an i do compare the side by side model like ridge,lasso,and elastic net regression\n",
    "import numpy as np # linear algebra\n",
    "import pandas as pd # data processing, CSV file I/O (e.g. pd.read_csv)\n",
    "from sklearn.linear_model import Ridge,Lasso,ElasticNet\n",
    "from sklearn.model_selection import train_test_split\n",
    "from sklearn.metrics import r2_score\n",
    "# Input data files are available in the read-only \"../input/\" directory\n",
    "# For example, running this (by clicking run or pressing Shift+Enter) will list all files under the input directory\n",
    "\n",
    "import os\n",
    "for dirname, _, filenames in os.walk('/kaggle/input'):\n",
    "    for filename in filenames:\n",
    "        print(os.path.join(dirname, filename))\n",
    "\n",
    "# You can write up to 20GB to the current directory (/kaggle/working/) that gets preserved as output when you create a version using \"Save & Run All\" \n",
    "# You can also write temporary files to /kaggle/temp/, but they won't be saved outside of the current session"
   ]
  },
  {
   "cell_type": "code",
   "execution_count": 2,
   "id": "ef742419",
   "metadata": {
    "execution": {
     "iopub.execute_input": "2024-05-02T19:49:58.667917Z",
     "iopub.status.busy": "2024-05-02T19:49:58.667364Z",
     "iopub.status.idle": "2024-05-02T19:49:58.699594Z",
     "shell.execute_reply": "2024-05-02T19:49:58.698204Z"
    },
    "papermill": {
     "duration": 0.041993,
     "end_time": "2024-05-02T19:49:58.702650",
     "exception": false,
     "start_time": "2024-05-02T19:49:58.660657",
     "status": "completed"
    },
    "tags": []
   },
   "outputs": [],
   "source": [
    "df=pd.read_csv(\"/kaggle/input/aids-virus-infection-prediction/AIDS_Classification.csv\")"
   ]
  },
  {
   "cell_type": "code",
   "execution_count": 3,
   "id": "bc0bca38",
   "metadata": {
    "execution": {
     "iopub.execute_input": "2024-05-02T19:49:58.716929Z",
     "iopub.status.busy": "2024-05-02T19:49:58.716464Z",
     "iopub.status.idle": "2024-05-02T19:49:58.725758Z",
     "shell.execute_reply": "2024-05-02T19:49:58.724401Z"
    },
    "papermill": {
     "duration": 0.019864,
     "end_time": "2024-05-02T19:49:58.728683",
     "exception": false,
     "start_time": "2024-05-02T19:49:58.708819",
     "status": "completed"
    },
    "tags": []
   },
   "outputs": [
    {
     "data": {
      "text/plain": [
       "(2139, 23)"
      ]
     },
     "execution_count": 3,
     "metadata": {},
     "output_type": "execute_result"
    }
   ],
   "source": [
    "df.shape"
   ]
  },
  {
   "cell_type": "code",
   "execution_count": 4,
   "id": "d976032f",
   "metadata": {
    "execution": {
     "iopub.execute_input": "2024-05-02T19:49:58.742772Z",
     "iopub.status.busy": "2024-05-02T19:49:58.742356Z",
     "iopub.status.idle": "2024-05-02T19:49:58.776738Z",
     "shell.execute_reply": "2024-05-02T19:49:58.775329Z"
    },
    "papermill": {
     "duration": 0.04472,
     "end_time": "2024-05-02T19:49:58.779661",
     "exception": false,
     "start_time": "2024-05-02T19:49:58.734941",
     "status": "completed"
    },
    "tags": []
   },
   "outputs": [
    {
     "data": {
      "text/plain": [
       "<bound method DataFrame.info of       time  trt  age      wtkg  hemo  homo  drugs  karnof  oprior  z30  ...  \\\n",
       "0      948    2   48   89.8128     0     0      0     100       0    0  ...   \n",
       "1     1002    3   61   49.4424     0     0      0      90       0    1  ...   \n",
       "2      961    3   45   88.4520     0     1      1      90       0    1  ...   \n",
       "3     1166    3   47   85.2768     0     1      0     100       0    1  ...   \n",
       "4     1090    0   43   66.6792     0     1      0     100       0    1  ...   \n",
       "...    ...  ...  ...       ...   ...   ...    ...     ...     ...  ...  ...   \n",
       "2134  1091    3   21   53.2980     1     0      0     100       0    1  ...   \n",
       "2135   395    0   17  102.9672     1     0      0     100       0    1  ...   \n",
       "2136  1104    2   53   69.8544     1     1      0      90       0    1  ...   \n",
       "2137   465    0   14   60.0000     1     0      0     100       0    0  ...   \n",
       "2138  1045    3   45   77.3000     1     0      0     100       0    0  ...   \n",
       "\n",
       "      str2  strat  symptom  treat  offtrt  cd40  cd420  cd80  cd820  infected  \n",
       "0        0      1        0      1       0   422    477   566    324         0  \n",
       "1        1      3        0      1       0   162    218   392    564         1  \n",
       "2        1      3        0      1       1   326    274  2063   1893         0  \n",
       "3        1      3        0      1       0   287    394  1590    966         0  \n",
       "4        1      3        0      0       0   504    353   870    782         0  \n",
       "...    ...    ...      ...    ...     ...   ...    ...   ...    ...       ...  \n",
       "2134     1      3        0      1       1   152    109   561    720         0  \n",
       "2135     1      3        0      0       1   373    218  1759   1030         0  \n",
       "2136     1      3        0      1       0   419    364  1391   1041         0  \n",
       "2137     0      1        0      0       0   166    169   999   1838         1  \n",
       "2138     0      1        0      1       0   911    930   885    526         0  \n",
       "\n",
       "[2139 rows x 23 columns]>"
      ]
     },
     "execution_count": 4,
     "metadata": {},
     "output_type": "execute_result"
    }
   ],
   "source": [
    "df.info"
   ]
  },
  {
   "cell_type": "code",
   "execution_count": 5,
   "id": "b56118c6",
   "metadata": {
    "execution": {
     "iopub.execute_input": "2024-05-02T19:49:58.795039Z",
     "iopub.status.busy": "2024-05-02T19:49:58.794625Z",
     "iopub.status.idle": "2024-05-02T19:49:58.820027Z",
     "shell.execute_reply": "2024-05-02T19:49:58.818660Z"
    },
    "papermill": {
     "duration": 0.036151,
     "end_time": "2024-05-02T19:49:58.822772",
     "exception": false,
     "start_time": "2024-05-02T19:49:58.786621",
     "status": "completed"
    },
    "tags": []
   },
   "outputs": [
    {
     "data": {
      "text/html": [
       "<div>\n",
       "<style scoped>\n",
       "    .dataframe tbody tr th:only-of-type {\n",
       "        vertical-align: middle;\n",
       "    }\n",
       "\n",
       "    .dataframe tbody tr th {\n",
       "        vertical-align: top;\n",
       "    }\n",
       "\n",
       "    .dataframe thead th {\n",
       "        text-align: right;\n",
       "    }\n",
       "</style>\n",
       "<table border=\"1\" class=\"dataframe\">\n",
       "  <thead>\n",
       "    <tr style=\"text-align: right;\">\n",
       "      <th></th>\n",
       "      <th>time</th>\n",
       "      <th>trt</th>\n",
       "      <th>age</th>\n",
       "      <th>wtkg</th>\n",
       "      <th>hemo</th>\n",
       "      <th>homo</th>\n",
       "      <th>drugs</th>\n",
       "      <th>karnof</th>\n",
       "      <th>oprior</th>\n",
       "      <th>z30</th>\n",
       "      <th>...</th>\n",
       "      <th>str2</th>\n",
       "      <th>strat</th>\n",
       "      <th>symptom</th>\n",
       "      <th>treat</th>\n",
       "      <th>offtrt</th>\n",
       "      <th>cd40</th>\n",
       "      <th>cd420</th>\n",
       "      <th>cd80</th>\n",
       "      <th>cd820</th>\n",
       "      <th>infected</th>\n",
       "    </tr>\n",
       "  </thead>\n",
       "  <tbody>\n",
       "    <tr>\n",
       "      <th>1524</th>\n",
       "      <td>897</td>\n",
       "      <td>3</td>\n",
       "      <td>25</td>\n",
       "      <td>67.5864</td>\n",
       "      <td>0</td>\n",
       "      <td>1</td>\n",
       "      <td>0</td>\n",
       "      <td>100</td>\n",
       "      <td>0</td>\n",
       "      <td>0</td>\n",
       "      <td>...</td>\n",
       "      <td>0</td>\n",
       "      <td>1</td>\n",
       "      <td>0</td>\n",
       "      <td>1</td>\n",
       "      <td>1</td>\n",
       "      <td>456</td>\n",
       "      <td>413</td>\n",
       "      <td>1766</td>\n",
       "      <td>843</td>\n",
       "      <td>0</td>\n",
       "    </tr>\n",
       "    <tr>\n",
       "      <th>55</th>\n",
       "      <td>998</td>\n",
       "      <td>1</td>\n",
       "      <td>50</td>\n",
       "      <td>88.9056</td>\n",
       "      <td>0</td>\n",
       "      <td>1</td>\n",
       "      <td>0</td>\n",
       "      <td>100</td>\n",
       "      <td>0</td>\n",
       "      <td>0</td>\n",
       "      <td>...</td>\n",
       "      <td>0</td>\n",
       "      <td>1</td>\n",
       "      <td>0</td>\n",
       "      <td>1</td>\n",
       "      <td>0</td>\n",
       "      <td>483</td>\n",
       "      <td>729</td>\n",
       "      <td>1208</td>\n",
       "      <td>1742</td>\n",
       "      <td>0</td>\n",
       "    </tr>\n",
       "  </tbody>\n",
       "</table>\n",
       "<p>2 rows × 23 columns</p>\n",
       "</div>"
      ],
      "text/plain": [
       "      time  trt  age     wtkg  hemo  homo  drugs  karnof  oprior  z30  ...  \\\n",
       "1524   897    3   25  67.5864     0     1      0     100       0    0  ...   \n",
       "55     998    1   50  88.9056     0     1      0     100       0    0  ...   \n",
       "\n",
       "      str2  strat  symptom  treat  offtrt  cd40  cd420  cd80  cd820  infected  \n",
       "1524     0      1        0      1       1   456    413  1766    843         0  \n",
       "55       0      1        0      1       0   483    729  1208   1742         0  \n",
       "\n",
       "[2 rows x 23 columns]"
      ]
     },
     "execution_count": 5,
     "metadata": {},
     "output_type": "execute_result"
    }
   ],
   "source": [
    "df.sample(2)"
   ]
  },
  {
   "cell_type": "code",
   "execution_count": 6,
   "id": "6edfb30f",
   "metadata": {
    "execution": {
     "iopub.execute_input": "2024-05-02T19:49:58.838698Z",
     "iopub.status.busy": "2024-05-02T19:49:58.838299Z",
     "iopub.status.idle": "2024-05-02T19:49:58.845382Z",
     "shell.execute_reply": "2024-05-02T19:49:58.843937Z"
    },
    "papermill": {
     "duration": 0.018463,
     "end_time": "2024-05-02T19:49:58.848035",
     "exception": false,
     "start_time": "2024-05-02T19:49:58.829572",
     "status": "completed"
    },
    "tags": []
   },
   "outputs": [],
   "source": [
    "x=df.iloc[:,:-1]\n",
    "y=df.iloc[:,-1:]"
   ]
  },
  {
   "cell_type": "code",
   "execution_count": 7,
   "id": "0b64990e",
   "metadata": {
    "execution": {
     "iopub.execute_input": "2024-05-02T19:49:58.863717Z",
     "iopub.status.busy": "2024-05-02T19:49:58.863303Z",
     "iopub.status.idle": "2024-05-02T19:49:58.872466Z",
     "shell.execute_reply": "2024-05-02T19:49:58.871294Z"
    },
    "papermill": {
     "duration": 0.019906,
     "end_time": "2024-05-02T19:49:58.875268",
     "exception": false,
     "start_time": "2024-05-02T19:49:58.855362",
     "status": "completed"
    },
    "tags": []
   },
   "outputs": [],
   "source": [
    "x_train,x_test,y_train,y_test=train_test_split(x,y,test_size=0.2,random_state=12)"
   ]
  },
  {
   "cell_type": "code",
   "execution_count": 8,
   "id": "edda180d",
   "metadata": {
    "execution": {
     "iopub.execute_input": "2024-05-02T19:49:58.891437Z",
     "iopub.status.busy": "2024-05-02T19:49:58.890177Z",
     "iopub.status.idle": "2024-05-02T19:49:58.937598Z",
     "shell.execute_reply": "2024-05-02T19:49:58.936091Z"
    },
    "papermill": {
     "duration": 0.060159,
     "end_time": "2024-05-02T19:49:58.942350",
     "exception": false,
     "start_time": "2024-05-02T19:49:58.882191",
     "status": "completed"
    },
    "tags": []
   },
   "outputs": [
    {
     "data": {
      "text/plain": [
       "51.11176728574998"
      ]
     },
     "execution_count": 8,
     "metadata": {},
     "output_type": "execute_result"
    }
   ],
   "source": [
    "l1=Ridge(alpha=1.0)\n",
    "l1.fit(x_train,y_train)\n",
    "y1=l1.predict(x_test)\n",
    "r2_score(y_test,y1)*100\n"
   ]
  },
  {
   "cell_type": "code",
   "execution_count": 9,
   "id": "9024fde9",
   "metadata": {
    "execution": {
     "iopub.execute_input": "2024-05-02T19:49:58.972664Z",
     "iopub.status.busy": "2024-05-02T19:49:58.972002Z",
     "iopub.status.idle": "2024-05-02T19:49:58.988169Z",
     "shell.execute_reply": "2024-05-02T19:49:58.986520Z"
    },
    "papermill": {
     "duration": 0.036294,
     "end_time": "2024-05-02T19:49:58.992738",
     "exception": false,
     "start_time": "2024-05-02T19:49:58.956444",
     "status": "completed"
    },
    "tags": []
   },
   "outputs": [
    {
     "name": "stdout",
     "output_type": "stream",
     "text": [
      "These are coef_: [[-9.10573153e-04 -7.59190922e-03  1.44915625e-03  3.72002752e-04\n",
      "  -8.23338508e-02 -5.92866062e-03 -5.01905907e-02 -2.50205915e-03\n",
      "   4.03728107e-02  7.98239149e-02  6.54270449e-05 -7.43762084e-02\n",
      "   2.74223835e-02 -2.27638085e-02 -1.19818283e-02  5.20287905e-02\n",
      "   4.67699887e-03 -2.29453872e-01  1.20233970e-04 -5.43837692e-04\n",
      "  -2.63347695e-05  7.03137454e-05]]\n",
      "This is intercept_: [1.39169081]\n"
     ]
    }
   ],
   "source": [
    "print(\"These are coef_:\",l1.coef_)\n",
    "print(\"This is intercept_:\",l1.intercept_)"
   ]
  },
  {
   "cell_type": "code",
   "execution_count": 10,
   "id": "326e0a84",
   "metadata": {
    "execution": {
     "iopub.execute_input": "2024-05-02T19:49:59.022753Z",
     "iopub.status.busy": "2024-05-02T19:49:59.022093Z",
     "iopub.status.idle": "2024-05-02T19:49:59.075173Z",
     "shell.execute_reply": "2024-05-02T19:49:59.073594Z"
    },
    "papermill": {
     "duration": 0.073118,
     "end_time": "2024-05-02T19:49:59.079330",
     "exception": false,
     "start_time": "2024-05-02T19:49:59.006212",
     "status": "completed"
    },
    "tags": []
   },
   "outputs": [
    {
     "data": {
      "text/plain": [
       "52.618878543062706"
      ]
     },
     "execution_count": 10,
     "metadata": {},
     "output_type": "execute_result"
    }
   ],
   "source": [
    "#Now Aplaying lasso regression technique\n",
    "l2=Lasso(alpha=0.02)\n",
    "l2.fit(x_train,y_train)\n",
    "y2=l2.predict(x_test)\n",
    "r2_score(y_test,y2)*100"
   ]
  },
  {
   "cell_type": "code",
   "execution_count": 11,
   "id": "1422c200",
   "metadata": {
    "execution": {
     "iopub.execute_input": "2024-05-02T19:49:59.128993Z",
     "iopub.status.busy": "2024-05-02T19:49:59.128208Z",
     "iopub.status.idle": "2024-05-02T19:49:59.137491Z",
     "shell.execute_reply": "2024-05-02T19:49:59.136367Z"
    },
    "papermill": {
     "duration": 0.050642,
     "end_time": "2024-05-02T19:49:59.150187",
     "exception": false,
     "start_time": "2024-05-02T19:49:59.099545",
     "status": "completed"
    },
    "tags": []
   },
   "outputs": [
    {
     "name": "stdout",
     "output_type": "stream",
     "text": [
      "coef_ are here: [-8.23592649e-04 -0.00000000e+00  2.21107098e-03  7.09090894e-04\n",
      " -0.00000000e+00  0.00000000e+00 -0.00000000e+00 -2.04506392e-03\n",
      " -0.00000000e+00  0.00000000e+00  9.52224108e-05 -0.00000000e+00\n",
      "  0.00000000e+00  0.00000000e+00  0.00000000e+00  0.00000000e+00\n",
      " -0.00000000e+00 -1.17783466e-01  9.51335230e-05 -5.30342186e-04\n",
      " -1.56478532e-05  7.02237366e-05]\n",
      "this is intercept_: [1.15152169]\n"
     ]
    }
   ],
   "source": [
    "print(\"coef_ are here:\",l2.coef_) #it also make feature selection ny itself so thats why it amake some columns zero.\n",
    "print(\"this is intercept_:\",l2.intercept_)"
   ]
  },
  {
   "cell_type": "code",
   "execution_count": 12,
   "id": "5b570428",
   "metadata": {
    "execution": {
     "iopub.execute_input": "2024-05-02T19:49:59.183432Z",
     "iopub.status.busy": "2024-05-02T19:49:59.183026Z",
     "iopub.status.idle": "2024-05-02T19:49:59.217763Z",
     "shell.execute_reply": "2024-05-02T19:49:59.216294Z"
    },
    "papermill": {
     "duration": 0.047274,
     "end_time": "2024-05-02T19:49:59.221921",
     "exception": false,
     "start_time": "2024-05-02T19:49:59.174647",
     "status": "completed"
    },
    "tags": []
   },
   "outputs": [
    {
     "data": {
      "text/plain": [
       "0.5250886449457841"
      ]
     },
     "execution_count": 12,
     "metadata": {},
     "output_type": "execute_result"
    }
   ],
   "source": [
    "#Now Apply elastic net regression which is the combination of both ridge and lasso regression\n",
    "l3=ElasticNet(alpha=0.01,l1_ratio=0.9)\n",
    "l3.fit(x_train,y_train)\n",
    "y3=l3.predict(x_test)\n",
    "r2_score(y_test,y3)"
   ]
  },
  {
   "cell_type": "code",
   "execution_count": 13,
   "id": "877c4e82",
   "metadata": {
    "execution": {
     "iopub.execute_input": "2024-05-02T19:49:59.273671Z",
     "iopub.status.busy": "2024-05-02T19:49:59.273028Z",
     "iopub.status.idle": "2024-05-02T19:49:59.281916Z",
     "shell.execute_reply": "2024-05-02T19:49:59.280804Z"
    },
    "papermill": {
     "duration": 0.043981,
     "end_time": "2024-05-02T19:49:59.287270",
     "exception": false,
     "start_time": "2024-05-02T19:49:59.243289",
     "status": "completed"
    },
    "tags": []
   },
   "outputs": [
    {
     "name": "stdout",
     "output_type": "stream",
     "text": [
      "Elastic net coef_ are: [-8.72703152e-04 -2.91059842e-04  1.99970239e-03  6.40312831e-04\n",
      " -0.00000000e+00  6.71539185e-03 -0.00000000e+00 -2.59008821e-03\n",
      " -0.00000000e+00  0.00000000e+00  8.82145747e-05 -3.41564148e-02\n",
      "  0.00000000e+00  0.00000000e+00  0.00000000e+00  0.00000000e+00\n",
      " -0.00000000e+00 -1.80196537e-01  9.99007718e-05 -5.49999832e-04\n",
      " -2.10089034e-05  7.37822330e-05]\n",
      "Elasti net ontercept_: [1.29881237]\n"
     ]
    }
   ],
   "source": [
    "print(\"Elastic net coef_ are:\",l3.coef_)\n",
    "print(\"Elasti net ontercept_:\",l3.intercept_)"
   ]
  },
  {
   "cell_type": "code",
   "execution_count": null,
   "id": "2da5f48c",
   "metadata": {
    "papermill": {
     "duration": 0.011522,
     "end_time": "2024-05-02T19:49:59.321837",
     "exception": false,
     "start_time": "2024-05-02T19:49:59.310315",
     "status": "completed"
    },
    "tags": []
   },
   "outputs": [],
   "source": []
  }
 ],
 "metadata": {
  "kaggle": {
   "accelerator": "none",
   "dataSources": [
    {
     "datasetId": 4890913,
     "sourceId": 8249624,
     "sourceType": "datasetVersion"
    }
   ],
   "dockerImageVersionId": 30698,
   "isGpuEnabled": false,
   "isInternetEnabled": true,
   "language": "python",
   "sourceType": "notebook"
  },
  "kernelspec": {
   "display_name": "Python 3",
   "language": "python",
   "name": "python3"
  },
  "language_info": {
   "codemirror_mode": {
    "name": "ipython",
    "version": 3
   },
   "file_extension": ".py",
   "mimetype": "text/x-python",
   "name": "python",
   "nbconvert_exporter": "python",
   "pygments_lexer": "ipython3",
   "version": "3.10.13"
  },
  "papermill": {
   "default_parameters": {},
   "duration": 7.326017,
   "end_time": "2024-05-02T19:49:59.950732",
   "environment_variables": {},
   "exception": null,
   "input_path": "__notebook__.ipynb",
   "output_path": "__notebook__.ipynb",
   "parameters": {},
   "start_time": "2024-05-02T19:49:52.624715",
   "version": "2.5.0"
  }
 },
 "nbformat": 4,
 "nbformat_minor": 5
}
