{
 "cells": [
  {
   "cell_type": "code",
   "execution_count": 7,
   "id": "79147d06-cffe-4ba6-bc3e-ac060c1fdbae",
   "metadata": {},
   "outputs": [],
   "source": [
    "import pandas as pd\n",
    "import numpy as np \n",
    "import seaborn as sns\n",
    "import matplotlib.pyplot as plt\n",
    "#it is unsupervised learning mean where we dont have output we just have input."
   ]
  },
  {
   "cell_type": "markdown",
   "id": "e5eb869c-0fc1-4ff7-9128-52e5404046f3",
   "metadata": {},
   "source": [
    "it is the feature extraction tecnique mean to reduce the curse of dimensionality mean we have many feature in the data but when we apply pca our future or \n",
    "dimension gona decrease in short our mechine learning model perfoam batter. \n",
    "<br>\n",
    "PCA Example:\n",
    "<br>\n",
    "supppose a photographer who want to take the photo of soccer match and you know phto is 2d but matvh is 3d.but it will try to capture 3d thing ito 2d mean high demension to the low dimension \n",
    "if i talk about the pca it is nothong but but making the higher dimension data into the lower dimesion data.ho\n",
    "\n",
    "reason of pca\n",
    "<br>\n",
    "1:pca make high dimension to the low dimension.fatser execution of algoritham.\n",
    "<br>\n",
    "2:visulaisation make better.\n",
    "\n",
    "number of principle component is less then n.\n",
    "\n",
    "\n",
    "<br>\n",
    "\n",
    "Q:why variance is important?\n",
    "Ans:variance is nothing but tell about the data spread.\n",
    "\n",
    "(x-xbar)2/n it is te formoula of variace.\n",
    "spread is not variance. it is directlt propotional to spread. \n",
    "<br>\n",
    "<br>"
   ]
  },
  {
   "cell_type": "code",
   "execution_count": 1,
   "id": "50cef944-a8f0-4687-bdd0-5da7aa09ed60",
   "metadata": {},
   "outputs": [],
   "source": [
    "#Now today i will read about the mathematical formoula about Principle component analysis."
   ]
  },
  {
   "cell_type": "code",
   "execution_count": null,
   "id": "1b6d6217-8928-41f6-ae44-48d627f27a6e",
   "metadata": {},
   "outputs": [],
   "source": []
  }
 ],
 "metadata": {
  "kernelspec": {
   "display_name": "Python 3 (ipykernel)",
   "language": "python",
   "name": "python3"
  },
  "language_info": {
   "codemirror_mode": {
    "name": "ipython",
    "version": 3
   },
   "file_extension": ".py",
   "mimetype": "text/x-python",
   "name": "python",
   "nbconvert_exporter": "python",
   "pygments_lexer": "ipython3",
   "version": "3.12.0"
  },
  "widgets": {
   "application/vnd.jupyter.widget-state+json": {
    "state": {},
    "version_major": 2,
    "version_minor": 0
   }
  }
 },
 "nbformat": 4,
 "nbformat_minor": 5
}
