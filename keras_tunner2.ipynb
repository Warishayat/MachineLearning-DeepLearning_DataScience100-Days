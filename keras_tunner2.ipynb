{
  "metadata": {
    "kernelspec": {
      "language": "python",
      "display_name": "Python 3",
      "name": "python3"
    },
    "language_info": {
      "name": "python",
      "version": "3.10.13",
      "mimetype": "text/x-python",
      "codemirror_mode": {
        "name": "ipython",
        "version": 3
      },
      "pygments_lexer": "ipython3",
      "nbconvert_exporter": "python",
      "file_extension": ".py"
    },
    "kaggle": {
      "accelerator": "none",
      "dataSources": [
        {
          "sourceId": 5644375,
          "sourceType": "datasetVersion",
          "datasetId": 3244240
        }
      ],
      "dockerImageVersionId": 30746,
      "isInternetEnabled": true,
      "language": "python",
      "sourceType": "notebook",
      "isGpuEnabled": false
    },
    "colab": {
      "name": "keras_tunner2",
      "provenance": []
    }
  },
  "nbformat_minor": 0,
  "nbformat": 4,
  "cells": [
    {
      "source": [
        "\n",
        "# IMPORTANT: RUN THIS CELL IN ORDER TO IMPORT YOUR KAGGLE DATA SOURCES\n",
        "# TO THE CORRECT LOCATION (/kaggle/input) IN YOUR NOTEBOOK,\n",
        "# THEN FEEL FREE TO DELETE THIS CELL.\n",
        "# NOTE: THIS NOTEBOOK ENVIRONMENT DIFFERS FROM KAGGLE'S PYTHON\n",
        "# ENVIRONMENT SO THERE MAY BE MISSING LIBRARIES USED BY YOUR\n",
        "# NOTEBOOK.\n",
        "\n",
        "import os\n",
        "import sys\n",
        "from tempfile import NamedTemporaryFile\n",
        "from urllib.request import urlopen\n",
        "from urllib.parse import unquote, urlparse\n",
        "from urllib.error import HTTPError\n",
        "from zipfile import ZipFile\n",
        "import tarfile\n",
        "import shutil\n",
        "\n",
        "CHUNK_SIZE = 40960\n",
        "DATA_SOURCE_MAPPING = 'daibetes:https%3A%2F%2Fstorage.googleapis.com%2Fkaggle-data-sets%2F3244240%2F5644375%2Fbundle%2Farchive.zip%3FX-Goog-Algorithm%3DGOOG4-RSA-SHA256%26X-Goog-Credential%3Dgcp-kaggle-com%2540kaggle-161607.iam.gserviceaccount.com%252F20240801%252Fauto%252Fstorage%252Fgoog4_request%26X-Goog-Date%3D20240801T180349Z%26X-Goog-Expires%3D259200%26X-Goog-SignedHeaders%3Dhost%26X-Goog-Signature%3D400e02078b5574695a9db60e30561593e4e838c880fe00702828a6e402a5536863d998c7cad4ba8b8b8def272492c0170de408e86fdf70d02feff23be47974623ccd45e879eff8b57aea90eae966e10e51ba9c319ef6f6b44ceea29101dfbd05ab081353d12bcd647b1fd42467d73bb5ef29d011a6171af4e68d05813274c61e126987781cfeae248b2ea8fe3b27ff844841d46dda64d14a1c54ec493442c78e42fe6a3539a78a122fb4ead62e17b2bc21860bfa1ccb77a6d6a1aaefb3de0349adf2ae0dcda44e9915a90b945fe1917d2e9e4360438b318eedbc0700e3a52bc52e8c6958cb1bd0549a69717f3297791c508ad46af096c7eedb11f56e16e23549'\n",
        "\n",
        "KAGGLE_INPUT_PATH='/kaggle/input'\n",
        "KAGGLE_WORKING_PATH='/kaggle/working'\n",
        "KAGGLE_SYMLINK='kaggle'\n",
        "\n",
        "!umount /kaggle/input/ 2> /dev/null\n",
        "shutil.rmtree('/kaggle/input', ignore_errors=True)\n",
        "os.makedirs(KAGGLE_INPUT_PATH, 0o777, exist_ok=True)\n",
        "os.makedirs(KAGGLE_WORKING_PATH, 0o777, exist_ok=True)\n",
        "\n",
        "try:\n",
        "  os.symlink(KAGGLE_INPUT_PATH, os.path.join(\"..\", 'input'), target_is_directory=True)\n",
        "except FileExistsError:\n",
        "  pass\n",
        "try:\n",
        "  os.symlink(KAGGLE_WORKING_PATH, os.path.join(\"..\", 'working'), target_is_directory=True)\n",
        "except FileExistsError:\n",
        "  pass\n",
        "\n",
        "for data_source_mapping in DATA_SOURCE_MAPPING.split(','):\n",
        "    directory, download_url_encoded = data_source_mapping.split(':')\n",
        "    download_url = unquote(download_url_encoded)\n",
        "    filename = urlparse(download_url).path\n",
        "    destination_path = os.path.join(KAGGLE_INPUT_PATH, directory)\n",
        "    try:\n",
        "        with urlopen(download_url) as fileres, NamedTemporaryFile() as tfile:\n",
        "            total_length = fileres.headers['content-length']\n",
        "            print(f'Downloading {directory}, {total_length} bytes compressed')\n",
        "            dl = 0\n",
        "            data = fileres.read(CHUNK_SIZE)\n",
        "            while len(data) > 0:\n",
        "                dl += len(data)\n",
        "                tfile.write(data)\n",
        "                done = int(50 * dl / int(total_length))\n",
        "                sys.stdout.write(f\"\\r[{'=' * done}{' ' * (50-done)}] {dl} bytes downloaded\")\n",
        "                sys.stdout.flush()\n",
        "                data = fileres.read(CHUNK_SIZE)\n",
        "            if filename.endswith('.zip'):\n",
        "              with ZipFile(tfile) as zfile:\n",
        "                zfile.extractall(destination_path)\n",
        "            else:\n",
        "              with tarfile.open(tfile.name) as tarfile:\n",
        "                tarfile.extractall(destination_path)\n",
        "            print(f'\\nDownloaded and uncompressed: {directory}')\n",
        "    except HTTPError as e:\n",
        "        print(f'Failed to load (likely expired) {download_url} to path {destination_path}')\n",
        "        continue\n",
        "    except OSError as e:\n",
        "        print(f'Failed to load {download_url} to path {destination_path}')\n",
        "        continue\n",
        "\n",
        "print('Data source import complete.')\n"
      ],
      "metadata": {
        "id": "ggXE0MAWLvqg"
      },
      "cell_type": "code",
      "outputs": [],
      "execution_count": null
    },
    {
      "cell_type": "raw",
      "source": [],
      "metadata": {
        "_uuid": "8f2839f25d086af736a60e9eeb907d3b93b6e0e5",
        "_cell_guid": "b1076dfc-b9ad-4769-8c92-a6c4dae69d19",
        "id": "Gediv4hBLvql"
      }
    },
    {
      "cell_type": "code",
      "source": [
        "# This Python 3 environment comes with many helpful analytics libraries installed\n",
        "# It is defined by the kaggle/python Docker image: https://github.com/kaggle/docker-python\n",
        "# For example, here's several helpful packages to load\n",
        "\n",
        "import numpy as np # linear algebra\n",
        "import pandas as pd # data processing, CSV file I/O (e.g. pd.read_csv)\n",
        "\n",
        "# Input data files are available in the read-only \"../input/\" directory\n",
        "# For example, running this (by clicking run or pressing Shift+Enter) will list all files under the input directory\n",
        "\n",
        "import os\n",
        "for dirname, _, filenames in os.walk('/kaggle/input'):\n",
        "    for filename in filenames:\n",
        "        print(os.path.join(dirname, filename))\n",
        "\n",
        "# You can write up to 20GB to the current directory (/kaggle/working/) that gets preserved as output when you create a version using \"Save & Run All\"\n",
        "# You can also write temporary files to /kaggle/temp/, but they won't be saved outside of the current session"
      ],
      "metadata": {
        "execution": {
          "iopub.status.busy": "2024-08-01T16:36:15.762068Z",
          "iopub.execute_input": "2024-08-01T16:36:15.762553Z",
          "iopub.status.idle": "2024-08-01T16:36:15.770105Z",
          "shell.execute_reply.started": "2024-08-01T16:36:15.762522Z",
          "shell.execute_reply": "2024-08-01T16:36:15.768928Z"
        },
        "trusted": true,
        "id": "eg3Y2fpZLvqm",
        "outputId": "01105232-29c6-44f1-dc28-d1f5b9c61a19"
      },
      "execution_count": null,
      "outputs": [
        {
          "name": "stdout",
          "text": "/kaggle/input/daibetes/diabetes (1).csv\n",
          "output_type": "stream"
        }
      ]
    },
    {
      "cell_type": "code",
      "source": [
        "import pandas as pd\n",
        "import numpy as np\n",
        "import matplotlib.pyplot as plt\n",
        "import seaborn as sns\n",
        "import tensorflow\n",
        "from tensorflow import keras\n",
        "from keras.models import Sequential\n",
        "from keras.layers import Dense\n",
        "import keras_tuner as kt\n",
        "from keras.layers import Dropout\n",
        "from keras.callbacks import Callback\n",
        "from keras.callbacks import EarlyStopping"
      ],
      "metadata": {
        "execution": {
          "iopub.status.busy": "2024-08-01T17:31:21.579577Z",
          "iopub.execute_input": "2024-08-01T17:31:21.580687Z",
          "iopub.status.idle": "2024-08-01T17:31:21.587525Z",
          "shell.execute_reply.started": "2024-08-01T17:31:21.580641Z",
          "shell.execute_reply": "2024-08-01T17:31:21.586272Z"
        },
        "trusted": true,
        "id": "Afmo2JbgLvqn"
      },
      "execution_count": null,
      "outputs": []
    },
    {
      "cell_type": "code",
      "source": [
        "df=pd.read_csv(\"/kaggle/input/daibetes/diabetes (1).csv\")"
      ],
      "metadata": {
        "execution": {
          "iopub.status.busy": "2024-08-01T16:38:24.423832Z",
          "iopub.execute_input": "2024-08-01T16:38:24.424283Z",
          "iopub.status.idle": "2024-08-01T16:38:24.447921Z",
          "shell.execute_reply.started": "2024-08-01T16:38:24.424248Z",
          "shell.execute_reply": "2024-08-01T16:38:24.446751Z"
        },
        "trusted": true,
        "id": "nzVYT0_CLvqo"
      },
      "execution_count": null,
      "outputs": []
    },
    {
      "cell_type": "code",
      "source": [
        "from sklearn.preprocessing import StandardScaler\n",
        "\n",
        "sc = StandardScaler()\n",
        "\n",
        "X_train_scaled = sc.fit_transform(X_train)\n",
        "X_test_scaled= sc.transform(X_test)"
      ],
      "metadata": {
        "execution": {
          "iopub.status.busy": "2024-08-01T17:21:24.100453Z",
          "iopub.execute_input": "2024-08-01T17:21:24.100947Z",
          "iopub.status.idle": "2024-08-01T17:21:24.118068Z",
          "shell.execute_reply.started": "2024-08-01T17:21:24.100908Z",
          "shell.execute_reply": "2024-08-01T17:21:24.11669Z"
        },
        "trusted": true,
        "id": "SKB5HfFLLvqp"
      },
      "execution_count": null,
      "outputs": []
    },
    {
      "cell_type": "code",
      "source": [
        "df.head(2)"
      ],
      "metadata": {
        "execution": {
          "iopub.status.busy": "2024-08-01T16:38:29.195095Z",
          "iopub.execute_input": "2024-08-01T16:38:29.195674Z",
          "iopub.status.idle": "2024-08-01T16:38:29.218914Z",
          "shell.execute_reply.started": "2024-08-01T16:38:29.195631Z",
          "shell.execute_reply": "2024-08-01T16:38:29.217746Z"
        },
        "trusted": true,
        "id": "UP5yjVn2Lvqp",
        "outputId": "f3a2a61c-de7a-4ec4-8b82-726a37d9e52d"
      },
      "execution_count": null,
      "outputs": [
        {
          "execution_count": 5,
          "output_type": "execute_result",
          "data": {
            "text/plain": "   Pregnancies  Glucose  BloodPressure  SkinThickness  Insulin   BMI  \\\n0            6      148             72             35        0  33.6   \n1            1       85             66             29        0  26.6   \n\n   DiabetesPedigreeFunction  Age  Outcome  \n0                     0.627   50        1  \n1                     0.351   31        0  ",
            "text/html": "<div>\n<style scoped>\n    .dataframe tbody tr th:only-of-type {\n        vertical-align: middle;\n    }\n\n    .dataframe tbody tr th {\n        vertical-align: top;\n    }\n\n    .dataframe thead th {\n        text-align: right;\n    }\n</style>\n<table border=\"1\" class=\"dataframe\">\n  <thead>\n    <tr style=\"text-align: right;\">\n      <th></th>\n      <th>Pregnancies</th>\n      <th>Glucose</th>\n      <th>BloodPressure</th>\n      <th>SkinThickness</th>\n      <th>Insulin</th>\n      <th>BMI</th>\n      <th>DiabetesPedigreeFunction</th>\n      <th>Age</th>\n      <th>Outcome</th>\n    </tr>\n  </thead>\n  <tbody>\n    <tr>\n      <th>0</th>\n      <td>6</td>\n      <td>148</td>\n      <td>72</td>\n      <td>35</td>\n      <td>0</td>\n      <td>33.6</td>\n      <td>0.627</td>\n      <td>50</td>\n      <td>1</td>\n    </tr>\n    <tr>\n      <th>1</th>\n      <td>1</td>\n      <td>85</td>\n      <td>66</td>\n      <td>29</td>\n      <td>0</td>\n      <td>26.6</td>\n      <td>0.351</td>\n      <td>31</td>\n      <td>0</td>\n    </tr>\n  </tbody>\n</table>\n</div>"
          },
          "metadata": {}
        }
      ]
    },
    {
      "cell_type": "code",
      "source": [
        "x=df.iloc[:,:-1]\n",
        "y=df.iloc[:,-1:]\n",
        "\n",
        "from sklearn.model_selection import train_test_split\n",
        "X_train,X_test,y_train,y_test=train_test_split(x,y,test_size=0.2,random_state=12)"
      ],
      "metadata": {
        "execution": {
          "iopub.status.busy": "2024-08-01T16:45:52.204657Z",
          "iopub.execute_input": "2024-08-01T16:45:52.205145Z",
          "iopub.status.idle": "2024-08-01T16:45:52.218362Z",
          "shell.execute_reply.started": "2024-08-01T16:45:52.205098Z",
          "shell.execute_reply": "2024-08-01T16:45:52.217023Z"
        },
        "trusted": true,
        "id": "KhtI68gRLvqr"
      },
      "execution_count": null,
      "outputs": []
    },
    {
      "cell_type": "code",
      "source": [
        "df.duplicated().sum()"
      ],
      "metadata": {
        "execution": {
          "iopub.status.busy": "2024-08-01T16:39:06.462955Z",
          "iopub.execute_input": "2024-08-01T16:39:06.463397Z",
          "iopub.status.idle": "2024-08-01T16:39:06.473474Z",
          "shell.execute_reply.started": "2024-08-01T16:39:06.463365Z",
          "shell.execute_reply": "2024-08-01T16:39:06.471997Z"
        },
        "trusted": true,
        "id": "8YYcXv1eLvqr",
        "outputId": "5587f768-e445-419c-91fa-b97b5043bf2e"
      },
      "execution_count": null,
      "outputs": [
        {
          "execution_count": 7,
          "output_type": "execute_result",
          "data": {
            "text/plain": "0"
          },
          "metadata": {}
        }
      ]
    },
    {
      "cell_type": "code",
      "source": [
        "def build_model(hp):\n",
        "    model=Sequential()\n",
        "\n",
        "    counter=0\n",
        "\n",
        "    for i in range(hp.Int(\"layers_name\",min_value=1, max_value=10,step=1)):\n",
        "\n",
        "        if counter == 0:\n",
        "\n",
        "            model.add(Dense(units=hp.Int(\"unit\" + str(i),min_value=8,max_value=132,step=8),\n",
        "                            activation=hp.Choice(\"activation\" + str(i),values=[\"relu\",\"tanh\",\"sigmoid\"])\n",
        "                            ,input_dim=8))\n",
        "            model.add(Dropout(hp.Choice(\"Dropout\",values=[0.1,0.2,0.3,0.4,0.5,0.6,0.7,0.8,0.9])))\n",
        "        else:\n",
        "            model.add(Dense(units=hp.Int(\"unit\" + str(i),min_value=8,max_value=132,step=8),\n",
        "                            activation=hp.Choice(\"activation\"+  str(i),values=[\"relu\",\"tanh\",\"sigmoid\"])))\n",
        "            model.add(Dropout(hp.Choice(\"Dropout\",values=[0.1,0.2,0.3,0.4,0.5,0.6,0.7,0.8,0.9])))\n",
        "        counter+=1\n",
        "\n",
        "    model.add(Dense(1,activation=\"sigmoid\"))\n",
        "\n",
        "    model.compile(optimizer=hp.Choice(\"optimizer\",values=[\"adam\",\"adadelta\",\"sgd\",\"rmsprop\"]),loss=\"binary_crossentropy\",metrics=[\"accuracy\"])\n",
        "\n",
        "    return model"
      ],
      "metadata": {
        "execution": {
          "iopub.status.busy": "2024-08-01T17:21:32.197134Z",
          "iopub.execute_input": "2024-08-01T17:21:32.197638Z",
          "iopub.status.idle": "2024-08-01T17:21:32.210796Z",
          "shell.execute_reply.started": "2024-08-01T17:21:32.197598Z",
          "shell.execute_reply": "2024-08-01T17:21:32.208951Z"
        },
        "trusted": true,
        "id": "hBY30HEpLvqt"
      },
      "execution_count": null,
      "outputs": []
    },
    {
      "cell_type": "code",
      "source": [
        "tunner=kt.RandomSearch(build_model,objective=\"val_accuracy\",max_trials=3)"
      ],
      "metadata": {
        "execution": {
          "iopub.status.busy": "2024-08-01T17:21:50.390491Z",
          "iopub.execute_input": "2024-08-01T17:21:50.391176Z",
          "iopub.status.idle": "2024-08-01T17:21:50.413909Z",
          "shell.execute_reply.started": "2024-08-01T17:21:50.391142Z",
          "shell.execute_reply": "2024-08-01T17:21:50.412734Z"
        },
        "trusted": true,
        "id": "bngTYpOdLvqv",
        "outputId": "3aaa7f13-7b14-48b3-de06-837ada31f746"
      },
      "execution_count": null,
      "outputs": [
        {
          "name": "stdout",
          "text": "Reloading Tuner from ./untitled_project/tuner0.json\n",
          "output_type": "stream"
        }
      ]
    },
    {
      "cell_type": "code",
      "source": [
        "tunner.search(X_train_scaled,y_train,validation_data=(X_test_scaled,y_test),epochs=10)"
      ],
      "metadata": {
        "execution": {
          "iopub.status.busy": "2024-08-01T17:21:55.802435Z",
          "iopub.execute_input": "2024-08-01T17:21:55.802916Z",
          "iopub.status.idle": "2024-08-01T17:21:55.811056Z",
          "shell.execute_reply.started": "2024-08-01T17:21:55.802879Z",
          "shell.execute_reply": "2024-08-01T17:21:55.809657Z"
        },
        "trusted": true,
        "id": "Od-3c87GLvqw"
      },
      "execution_count": null,
      "outputs": []
    },
    {
      "cell_type": "code",
      "source": [
        "tunner.get_best_hyperparameters()[0].values"
      ],
      "metadata": {
        "execution": {
          "iopub.status.busy": "2024-08-01T17:22:12.938689Z",
          "iopub.execute_input": "2024-08-01T17:22:12.939736Z",
          "iopub.status.idle": "2024-08-01T17:22:12.948701Z",
          "shell.execute_reply.started": "2024-08-01T17:22:12.939681Z",
          "shell.execute_reply": "2024-08-01T17:22:12.947191Z"
        },
        "trusted": true,
        "id": "dQUdSDwJLvqx",
        "outputId": "632b9abb-4421-4c8a-9acd-16ba3fd85f6d"
      },
      "execution_count": null,
      "outputs": [
        {
          "execution_count": 55,
          "output_type": "execute_result",
          "data": {
            "text/plain": "{'layers_name': 8,\n 'unit0': 40,\n 'activation0': 'relu',\n 'optimizer': 'rmsprop',\n 'unit1': 120,\n 'activation1': 'sigmoid',\n 'unit2': 120,\n 'activation2': 'tanh',\n 'unit3': 56,\n 'activation3': 'sigmoid',\n 'unit4': 80,\n 'activation4': 'sigmoid',\n 'unit5': 120,\n 'activation5': 'relu',\n 'unit6': 64,\n 'activation6': 'tanh',\n 'unit7': 8,\n 'activation7': 'relu'}"
          },
          "metadata": {}
        }
      ]
    },
    {
      "cell_type": "code",
      "source": [
        "model=tunner.get_best_models(num_models=1)[0]"
      ],
      "metadata": {
        "execution": {
          "iopub.status.busy": "2024-08-01T17:22:44.480859Z",
          "iopub.execute_input": "2024-08-01T17:22:44.481347Z",
          "iopub.status.idle": "2024-08-01T17:22:47.154331Z",
          "shell.execute_reply.started": "2024-08-01T17:22:44.481309Z",
          "shell.execute_reply": "2024-08-01T17:22:47.153054Z"
        },
        "trusted": true,
        "id": "npk3Sd0VLvqx"
      },
      "execution_count": null,
      "outputs": []
    },
    {
      "cell_type": "code",
      "source": [
        "model.fit(X_train,y_train,validation_data=(X_test,y_test),epochs=500,callbacks=calback)"
      ],
      "metadata": {
        "execution": {
          "iopub.status.busy": "2024-08-01T17:34:46.241055Z",
          "iopub.execute_input": "2024-08-01T17:34:46.241579Z",
          "iopub.status.idle": "2024-08-01T17:34:46.788198Z",
          "shell.execute_reply.started": "2024-08-01T17:34:46.241538Z",
          "shell.execute_reply": "2024-08-01T17:34:46.786876Z"
        },
        "trusted": true,
        "id": "eCkThgI7Lvqx",
        "outputId": "0617a256-a055-4c97-d6c6-bea52e79d3dc"
      },
      "execution_count": null,
      "outputs": [
        {
          "name": "stdout",
          "text": "Epoch 1/500\n\u001b[1m20/20\u001b[0m \u001b[32m━━━━━━━━━━━━━━━━━━━━\u001b[0m\u001b[37m\u001b[0m \u001b[1m0s\u001b[0m 9ms/step - accuracy: 0.8071 - loss: 0.3841 - val_accuracy: 0.7338 - val_loss: 0.6342\nEpoch 2/500\n\u001b[1m20/20\u001b[0m \u001b[32m━━━━━━━━━━━━━━━━━━━━\u001b[0m\u001b[37m\u001b[0m \u001b[1m0s\u001b[0m 5ms/step - accuracy: 0.8124 - loss: 0.4151 - val_accuracy: 0.7403 - val_loss: 0.6119\nEpoch 3/500\n\u001b[1m20/20\u001b[0m \u001b[32m━━━━━━━━━━━━━━━━━━━━\u001b[0m\u001b[37m\u001b[0m \u001b[1m0s\u001b[0m 5ms/step - accuracy: 0.7865 - loss: 0.4383 - val_accuracy: 0.7597 - val_loss: 0.6408\n",
          "output_type": "stream"
        },
        {
          "execution_count": 63,
          "output_type": "execute_result",
          "data": {
            "text/plain": "<keras.src.callbacks.history.History at 0x7f327591ffa0>"
          },
          "metadata": {}
        }
      ]
    },
    {
      "cell_type": "code",
      "source": [
        "calback=EarlyStopping(monitor='val_loss',\n",
        "                              min_delta=0,\n",
        "                              patience=0,\n",
        "                              verbose=0, mode='auto')"
      ],
      "metadata": {
        "execution": {
          "iopub.status.busy": "2024-08-01T17:34:00.255826Z",
          "iopub.execute_input": "2024-08-01T17:34:00.256334Z",
          "iopub.status.idle": "2024-08-01T17:34:00.265128Z",
          "shell.execute_reply.started": "2024-08-01T17:34:00.256299Z",
          "shell.execute_reply": "2024-08-01T17:34:00.263013Z"
        },
        "trusted": true,
        "id": "68UBFDUNLvqy"
      },
      "execution_count": null,
      "outputs": []
    },
    {
      "cell_type": "code",
      "source": [],
      "metadata": {
        "id": "irjT6IykLvqy"
      },
      "execution_count": null,
      "outputs": []
    }
  ]
}