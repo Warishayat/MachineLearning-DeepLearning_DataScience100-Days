{
 "cells": [
  {
   "cell_type": "code",
   "execution_count": 161,
   "id": "f86f77eb-9924-406b-b9e9-2ae8c59aaac6",
   "metadata": {},
   "outputs": [],
   "source": [
    "class LinearRegression:\n",
    "    def __init__ (self):\n",
    "        #we find slope and intercept for every datapoint.\n",
    "        self.b = None\n",
    "        self.m = None\n",
    "\n",
    "    def fitData(self, x_train, y_train):\n",
    "        num = 0\n",
    "        den = 0\n",
    "        for i in range(x_train.shape[0]):\n",
    "    \n",
    "            num += (x_train[i] - x_train.mean()) * (y_train[i] - y_train.mean())\n",
    "            den += (x_train[i] - x_train.mean()) * (x_train[i] - x_train.mean())\n",
    "\n",
    "        self.m = num / den\n",
    "        self.b = y_train.mean() - (self.m * x_train.mean())\n",
    "        print(self.m)\n",
    "        print(self.b)\n",
    "    def prediction(self, x_test):\n",
    "        return self.m * x_test + self.b"
   ]
  },
  {
   "cell_type": "code",
   "execution_count": 146,
   "id": "350c5be2-a011-42eb-97db-83404e86c708",
   "metadata": {},
   "outputs": [],
   "source": [
    "import numpy as np\n",
    "import pandas as pd"
   ]
  },
  {
   "cell_type": "code",
   "execution_count": 147,
   "id": "73291c02-3fb0-447e-b46b-54ab4639a3db",
   "metadata": {},
   "outputs": [],
   "source": [
    "df = pd.read_csv(\"placement1.csv\")\n",
    "x = df[[\"cgpa\"]].values\n",
    "y = df[[\"package\"]].values"
   ]
  },
  {
   "cell_type": "code",
   "execution_count": 148,
   "id": "3b0cd271-f0a5-4a56-ab69-1e7c356374c5",
   "metadata": {},
   "outputs": [],
   "source": [
    "from sklearn.model_selection import train_test_split\n",
    "x_train, x_test, y_train, y_test = train_test_split(x, y, test_size=0.2, random_state=2)"
   ]
  },
  {
   "cell_type": "code",
   "execution_count": 173,
   "id": "3c074b4a-039a-4a9e-98be-443a6b1e710e",
   "metadata": {},
   "outputs": [
    {
     "name": "stdout",
     "output_type": "stream",
     "text": [
      "[0.55795197]\n",
      "[-0.89611192]\n"
     ]
    },
    {
     "data": {
      "text/plain": [
       "array([2.38464568])"
      ]
     },
     "execution_count": 173,
     "metadata": {},
     "output_type": "execute_result"
    }
   ],
   "source": [
    "reg=LinearRegression()\n",
    "reg.fitData(x_train,y_train) #these are our slope and itercept.\n",
    "reg.prediction(x_test[2])"
   ]
  },
  {
   "cell_type": "code",
   "execution_count": 166,
   "id": "7002102e-bb42-4a39-8d9f-90d2e3e405bf",
   "metadata": {},
   "outputs": [
    {
     "data": {
      "text/plain": [
       "array([[4.1 ],\n",
       "       [3.49],\n",
       "       [2.08],\n",
       "       [2.33],\n",
       "       [1.94],\n",
       "       [1.48],\n",
       "       [1.86],\n",
       "       [3.09],\n",
       "       [4.21],\n",
       "       [2.87],\n",
       "       [3.65],\n",
       "       [4.  ],\n",
       "       [2.89],\n",
       "       [2.6 ],\n",
       "       [2.99],\n",
       "       [3.25],\n",
       "       [1.86],\n",
       "       [3.67],\n",
       "       [2.37],\n",
       "       [3.42],\n",
       "       [2.48],\n",
       "       [3.65],\n",
       "       [2.6 ],\n",
       "       [2.83],\n",
       "       [4.08],\n",
       "       [2.56],\n",
       "       [3.58],\n",
       "       [3.81],\n",
       "       [4.09],\n",
       "       [2.01],\n",
       "       [3.63],\n",
       "       [2.92],\n",
       "       [3.51],\n",
       "       [1.94],\n",
       "       [2.21],\n",
       "       [3.34],\n",
       "       [3.34],\n",
       "       [3.23],\n",
       "       [2.01],\n",
       "       [2.61]])"
      ]
     },
     "execution_count": 166,
     "metadata": {},
     "output_type": "execute_result"
    }
   ],
   "source": [
    "y_test"
   ]
  },
  {
   "cell_type": "code",
   "execution_count": 165,
   "id": "db66729b-5441-4bdc-ae65-78a2b289c3de",
   "metadata": {},
   "outputs": [
    {
     "data": {
      "text/plain": [
       "array([[8.58],\n",
       "       [7.15],\n",
       "       [5.88],\n",
       "       [6.22],\n",
       "       [4.57],\n",
       "       [4.79],\n",
       "       [5.32],\n",
       "       [6.86],\n",
       "       [8.35],\n",
       "       [6.87],\n",
       "       [8.94],\n",
       "       [7.9 ],\n",
       "       [6.93],\n",
       "       [5.91],\n",
       "       [7.32],\n",
       "       [7.82],\n",
       "       [5.09],\n",
       "       [7.42],\n",
       "       [6.94],\n",
       "       [7.73],\n",
       "       [6.19],\n",
       "       [7.28],\n",
       "       [6.73],\n",
       "       [7.2 ],\n",
       "       [8.21],\n",
       "       [6.75],\n",
       "       [7.87],\n",
       "       [7.6 ],\n",
       "       [8.63],\n",
       "       [5.12],\n",
       "       [8.15],\n",
       "       [7.36],\n",
       "       [8.31],\n",
       "       [6.6 ],\n",
       "       [6.59],\n",
       "       [7.47],\n",
       "       [7.93],\n",
       "       [6.29],\n",
       "       [6.37],\n",
       "       [6.47]])"
      ]
     },
     "execution_count": 165,
     "metadata": {},
     "output_type": "execute_result"
    }
   ],
   "source": [
    "x_test"
   ]
  },
  {
   "cell_type": "code",
   "execution_count": 169,
   "id": "8e73c064-81c8-4fc6-b4e7-b4af292ff89f",
   "metadata": {},
   "outputs": [
    {
     "data": {
      "text/plain": [
       "(40, 1)"
      ]
     },
     "execution_count": 169,
     "metadata": {},
     "output_type": "execute_result"
    }
   ],
   "source": [
    "x_test.shape"
   ]
  },
  {
   "cell_type": "code",
   "execution_count": 170,
   "id": "170c6f78-bb54-4a40-bb61-53ee65327d69",
   "metadata": {},
   "outputs": [
    {
     "data": {
      "text/plain": [
       "(40, 1)"
      ]
     },
     "execution_count": 170,
     "metadata": {},
     "output_type": "execute_result"
    }
   ],
   "source": [
    "y_test.shape"
   ]
  },
  {
   "cell_type": "code",
   "execution_count": 171,
   "id": "df82dbad-346c-47b8-96be-cea37d9d44ce",
   "metadata": {},
   "outputs": [
    {
     "data": {
      "text/plain": [
       "array([5.88])"
      ]
     },
     "execution_count": 171,
     "metadata": {},
     "output_type": "execute_result"
    }
   ],
   "source": [
    "x_test[2]"
   ]
  },
  {
   "cell_type": "code",
   "execution_count": 172,
   "id": "f9ca158d-bd60-4ce3-9e86-2320c48af61f",
   "metadata": {},
   "outputs": [
    {
     "data": {
      "text/plain": [
       "array([2.08])"
      ]
     },
     "execution_count": 172,
     "metadata": {},
     "output_type": "execute_result"
    }
   ],
   "source": [
    "y_test[2]"
   ]
  },
  {
   "cell_type": "code",
   "execution_count": null,
   "id": "cd85fbd9-c7fb-49b4-a97e-e6cd306beac6",
   "metadata": {},
   "outputs": [],
   "source": []
  }
 ],
 "metadata": {
  "kernelspec": {
   "display_name": "Python 3 (ipykernel)",
   "language": "python",
   "name": "python3"
  },
  "language_info": {
   "codemirror_mode": {
    "name": "ipython",
    "version": 3
   },
   "file_extension": ".py",
   "mimetype": "text/x-python",
   "name": "python",
   "nbconvert_exporter": "python",
   "pygments_lexer": "ipython3",
   "version": "3.12.0"
  },
  "widgets": {
   "application/vnd.jupyter.widget-state+json": {
    "state": {},
    "version_major": 2,
    "version_minor": 0
   }
  }
 },
 "nbformat": 4,
 "nbformat_minor": 5
}
