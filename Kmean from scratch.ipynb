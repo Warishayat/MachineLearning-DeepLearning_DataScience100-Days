{
 "cells": [
  {
   "cell_type": "code",
   "execution_count": 4,
   "id": "737bfe7b-545f-4527-ac95-b0b0e84ce796",
   "metadata": {},
   "outputs": [
    {
     "data": {
      "text/html": [
       "<div>\n",
       "<style scoped>\n",
       "    .dataframe tbody tr th:only-of-type {\n",
       "        vertical-align: middle;\n",
       "    }\n",
       "\n",
       "    .dataframe tbody tr th {\n",
       "        vertical-align: top;\n",
       "    }\n",
       "\n",
       "    .dataframe thead th {\n",
       "        text-align: right;\n",
       "    }\n",
       "</style>\n",
       "<table border=\"1\" class=\"dataframe\">\n",
       "  <thead>\n",
       "    <tr style=\"text-align: right;\">\n",
       "      <th></th>\n",
       "      <th>cgpa</th>\n",
       "      <th>iq</th>\n",
       "    </tr>\n",
       "  </thead>\n",
       "  <tbody>\n",
       "    <tr>\n",
       "      <th>0</th>\n",
       "      <td>5.13</td>\n",
       "      <td>88</td>\n",
       "    </tr>\n",
       "    <tr>\n",
       "      <th>1</th>\n",
       "      <td>5.90</td>\n",
       "      <td>113</td>\n",
       "    </tr>\n",
       "  </tbody>\n",
       "</table>\n",
       "</div>"
      ],
      "text/plain": [
       "   cgpa   iq\n",
       "0  5.13   88\n",
       "1  5.90  113"
      ]
     },
     "execution_count": 4,
     "metadata": {},
     "output_type": "execute_result"
    }
   ],
   "source": []
  },
  {
   "cell_type": "markdown",
   "id": "933b322c-158a-42cb-b1c0-873027efa988",
   "metadata": {},
   "source": [
    "# step that we fallow:\n",
    "# 1: select no of cluster\n",
    "# 2: select random centroid\n",
    "# 3: assign cluster\n",
    "# 4: move centroid\n",
    "# 5: check finsih"
   ]
  },
  {
   "cell_type": "code",
   "execution_count": 105,
   "id": "53d7cf3d-d6dd-4290-b2b2-e3e60248155f",
   "metadata": {},
   "outputs": [],
   "source": [
    "import random\n",
    "class Kmeans:\n",
    "    def __init__(self,no_cluster=2,max_iter=100):\n",
    "        self.no_cluster=no_cluster\n",
    "        self.max_iter=max_iter\n",
    "        self.centroid=None\n",
    "        \n",
    "    def fit_predict(self,x):\n",
    "        #select random centroid\n",
    "        random_index=random.sample(range(0,x.shape[0]),self.no_cluster)\n",
    "        self.centroid = x[random_index]\n",
    "\n",
    "        for i in range(self.max_iter):\n",
    "            #assign cluster\n",
    "            cluster_group=self.Assign_cluster(x)\n",
    "            #move centroid\n",
    "            old_centroid= self.centroid\n",
    "            self.centroid = self.Move_centroid(x,cluster_group)\n",
    "            #check finish\n",
    "            if (old_centroid == self.centroid).all():\n",
    "                break\n",
    "        return cluster_group\n",
    "        \n",
    "    def Assign_cluster(self,x):\n",
    "        cluster_group=[]\n",
    "        distances=[]\n",
    "        #euclidean distance\n",
    "        for row in x:\n",
    "            for centroid in self.centroid:\n",
    "                distances.append(np.sqrt(np.dot(row-centroid,row-centroid)))\n",
    "           \n",
    "            min_distance=np.min(distances)\n",
    "            cluster_group.append(distances.index(min_distance))\n",
    "            distances.clear()\n",
    "            \n",
    "        return np.array(cluster_group)\n",
    "\n",
    "\n",
    "    def Move_centroid(self,x,cluster_group):\n",
    "        new_centroid=[]\n",
    "        cluster_type=np.unique(cluster_group)\n",
    "        for type in cluster_type:\n",
    "            new_centroid.append(x[cluster_group==type].mean(axis=0))\n",
    "            \n",
    "        return np.array(new_centroid) "
   ]
  },
  {
   "cell_type": "code",
   "execution_count": null,
   "id": "0ead356e-0278-4ec0-ba83-d6e20fcce4d0",
   "metadata": {},
   "outputs": [],
   "source": [
    "import pandas as pd\n",
    "import numpy as np\n",
    "import matplotlib\n",
    "matplotlib.use('TkAgg')  # or 'Qt5Agg'\n",
    "import matplotlib.pyplot as plt\n",
    "\n",
    "\n",
    "\n",
    "df=pd.read_csv(\"student_clustering.csv\")\n",
    "x=df.iloc[:,0:2]\n",
    "\n",
    "km = Kmeans(2,200)\n",
    "y_mean=km.fit_predict(x.values)\n",
    "plt.scatter(x[y_mean == 0,0],x[y_mean == 0,1],color=\"red\")\n",
    "plt.scatter(x[y_mean == 1,0],x[y_mean == 1,1],color=\"yellow\")\n",
    "plt.show()"
   ]
  },
  {
   "cell_type": "code",
   "execution_count": null,
   "id": "b57c5054-62c7-4e51-bf3c-b83257b8bf74",
   "metadata": {},
   "outputs": [],
   "source": []
  },
  {
   "cell_type": "code",
   "execution_count": null,
   "id": "18fc1cc7-2f79-4197-a4ed-3c62f59e2a9b",
   "metadata": {},
   "outputs": [],
   "source": []
  }
 ],
 "metadata": {
  "kernelspec": {
   "display_name": "Python 3 (ipykernel)",
   "language": "python",
   "name": "python3"
  },
  "language_info": {
   "codemirror_mode": {
    "name": "ipython",
    "version": 3
   },
   "file_extension": ".py",
   "mimetype": "text/x-python",
   "name": "python",
   "nbconvert_exporter": "python",
   "pygments_lexer": "ipython3",
   "version": "3.12.0"
  },
  "widgets": {
   "application/vnd.jupyter.widget-state+json": {
    "state": {},
    "version_major": 2,
    "version_minor": 0
   }
  }
 },
 "nbformat": 4,
 "nbformat_minor": 5
}
