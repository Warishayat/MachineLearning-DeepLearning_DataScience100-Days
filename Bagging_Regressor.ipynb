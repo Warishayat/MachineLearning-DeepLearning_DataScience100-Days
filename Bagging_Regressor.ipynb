{
 "cells": [
  {
   "cell_type": "code",
   "execution_count": 25,
   "id": "9bb16fb5-d003-435a-9032-35e4f84981c6",
   "metadata": {},
   "outputs": [],
   "source": [
    "import pandas as pd\n",
    "import seaborn as sns\n",
    "from sklearn.model_selection import train_test_split,GridSearchCV\n",
    "from sklearn.tree import DecisionTreeRegressor\n",
    "from sklearn.linear_model import LinearRegression\n",
    "from sklearn.neighbors import KNeighborsRegressor\n",
    "from sklearn.datasets import make_regression\n",
    "from sklearn.ensemble import BaggingRegressor\n",
    "from sklearn.metrics import r2_score"
   ]
  },
  {
   "cell_type": "code",
   "execution_count": 5,
   "id": "b484d531-cec6-409b-bc4c-eb725194f1b9",
   "metadata": {},
   "outputs": [],
   "source": [
    "x,y=make_regression( n_samples=1000,n_features=10,n_informative=3)"
   ]
  },
  {
   "cell_type": "code",
   "execution_count": 9,
   "id": "eafe5b47-8236-4c8d-b5c7-0d62b3b5495b",
   "metadata": {},
   "outputs": [],
   "source": [
    "x_train,x_test,y_train,y_test=train_test_split(x,y,train_size=0.8,random_state=12)"
   ]
  },
  {
   "cell_type": "code",
   "execution_count": 17,
   "id": "f8cd38a9-9244-48bf-974b-a725e4d12f02",
   "metadata": {},
   "outputs": [
    {
     "name": "stdout",
     "output_type": "stream",
     "text": [
      "Accuracy of Linear regression: 1.0\n",
      "Accuracy of Disicion Tree is: 0.9099427043978132\n",
      "Accuracy of KnearestNeighbour is: 0.7823962373739862\n"
     ]
    }
   ],
   "source": [
    "#Linear_Model\n",
    "Model1=LinearRegression() \n",
    "Model1.fit(x_train,y_train)\n",
    "y_pred1=Model1.predict(x_test)\n",
    "print(\"Accuracy of Linear regression:\",r2_score(y_test,y_pred1))\n",
    "\n",
    "#Disicion Tree Model\n",
    "Model2=DecisionTreeRegressor()\n",
    "Model2.fit(x_train,y_train)\n",
    "y_pred2=Model2.predict(x_test)\n",
    "print(\"Accuracy of Disicion Tree is:\",r2_score(y_test,y_pred2))\n",
    "\n",
    "#KNeighbour\n",
    "Model3=KNeighborsRegressor()\n",
    "Model3.fit(x_train,y_train)\n",
    "y_pred3=Model3.predict(x_test)\n",
    "print(\"Accuracy of KnearestNeighbour is:\",r2_score(y_test,y_pred3))"
   ]
  },
  {
   "cell_type": "code",
   "execution_count": 19,
   "id": "cd9e0cb4-f75e-487c-b62d-237270a75574",
   "metadata": {},
   "outputs": [
    {
     "name": "stdout",
     "output_type": "stream",
     "text": [
      "Accuracy of Bagging: 1.0\n"
     ]
    }
   ],
   "source": [
    "#Now Applaying Bagging Regressor with linear regression\n",
    "Bagging=BaggingRegressor(estimator=Model1,n_estimators=50,max_samples=0.5,bootstrap=True)\n",
    "Bagging.fit(x_train,y_train)\n",
    "Bagg_predict=Bagging.predict(x_test)\n",
    "print(\"Accuracy of Bagging with linear Regression:\",r2_score(y_test,Bagg_predict))"
   ]
  },
  {
   "cell_type": "code",
   "execution_count": 20,
   "id": "1754198d-55e1-4a9e-bfce-3eb85342a8cd",
   "metadata": {},
   "outputs": [
    {
     "name": "stdout",
     "output_type": "stream",
     "text": [
      "Accuracy of Bagging: 0.9430837747702885\n"
     ]
    }
   ],
   "source": [
    "#Now Applaying Bagging Regressor with Disicion Tree Regression\n",
    "Bagging=BaggingRegressor(estimator=Model2,n_estimators=50,max_samples=0.5,bootstrap=True)\n",
    "Bagging.fit(x_train,y_train)\n",
    "Bagg_predict=Bagging.predict(x_test)\n",
    "print(\"Accuracy of Bagging With Dision Tree Regressor:\",r2_score(y_test,Bagg_predict))"
   ]
  },
  {
   "cell_type": "code",
   "execution_count": 21,
   "id": "57324ead-2094-4310-9d84-8bc718f54138",
   "metadata": {},
   "outputs": [
    {
     "name": "stdout",
     "output_type": "stream",
     "text": [
      "Accuracy of Bagging with kNeighbour: 0.7819133607482511\n"
     ]
    }
   ],
   "source": [
    "#Now Applaying Bagging Regressor with Disicion Tree Regression\n",
    "Bagging=BaggingRegressor(estimator=Model3,n_estimators=50,max_samples=0.5,bootstrap=True)\n",
    "Bagging.fit(x_train,y_train)\n",
    "Bagg_predict=Bagging.predict(x_test)\n",
    "print(\"Accuracy of Bagging with kNeighbour:\",r2_score(y_test,Bagg_predict))"
   ]
  },
  {
   "cell_type": "code",
   "execution_count": 22,
   "id": "ee63bdc8-2e46-40b5-ac62-3a6d053da7de",
   "metadata": {},
   "outputs": [
    {
     "name": "stdout",
     "output_type": "stream",
     "text": [
      "Accuracy of Random patches with linear Regression: 0.574518445951038\n"
     ]
    }
   ],
   "source": [
    "#Now I Will apply random pacthes than will calculate the accuracy score(linear Reg with random patches).\n",
    "Bagging=BaggingRegressor(estimator=Model1,n_estimators=50,max_samples=0.5,max_features=0.5,bootstrap_features=True,bootstrap=True,random_state=12)\n",
    "Bagging.fit(x_train,y_train)\n",
    "Bagg_predict=Bagging.predict(x_test)\n",
    "print(\"Accuracy of Random patches with linear Regression:\",r2_score(y_test,Bagg_predict))"
   ]
  },
  {
   "cell_type": "code",
   "execution_count": 23,
   "id": "2c66ce10-65f1-441e-a3ea-b2a50a0f07a8",
   "metadata": {},
   "outputs": [
    {
     "name": "stdout",
     "output_type": "stream",
     "text": [
      "Accuracy of Random patches with linear Regression: 0.5305563587720123\n"
     ]
    }
   ],
   "source": [
    "#Now I Will apply random pacthes than will calculate the accuracy score(Disicion Tree regressor with random patches).\n",
    "Bagging=BaggingRegressor(estimator=Model2,n_estimators=50,max_samples=0.5,max_features=0.5,bootstrap_features=True,bootstrap=True,random_state=12)\n",
    "Bagging.fit(x_train,y_train)\n",
    "Bagg_predict=Bagging.predict(x_test)\n",
    "print(\"Accuracy of Random patches with linear Regression:\",r2_score(y_test,Bagg_predict))"
   ]
  },
  {
   "cell_type": "code",
   "execution_count": 24,
   "id": "dba579d2-ec80-4130-95fa-c5e9e8d35683",
   "metadata": {},
   "outputs": [
    {
     "name": "stdout",
     "output_type": "stream",
     "text": [
      "Accuracy of Random patches with linear Regression: 0.4656763139319259\n"
     ]
    }
   ],
   "source": [
    "#Now I Will apply random pacthes than will calculate the accuracy score(Kneighbour with random patches).\n",
    "Bagging=BaggingRegressor(estimator=Model3,n_estimators=50,max_samples=0.5,max_features=0.5,bootstrap_features=True,bootstrap=True,random_state=12)\n",
    "Bagging.fit(x_train,y_train)\n",
    "Bagg_predict=Bagging.predict(x_test)\n",
    "print(\"Accuracy of Random patches with linear Regression:\",r2_score(y_test,Bagg_predict))"
   ]
  },
  {
   "cell_type": "code",
   "execution_count": null,
   "id": "057eb4df-34ce-404f-ad22-ee891995fdd3",
   "metadata": {},
   "outputs": [],
   "source": []
  },
  {
   "cell_type": "code",
   "execution_count": 41,
   "id": "b0d7d1ad-833a-40d7-be87-ae7b3a88e38e",
   "metadata": {},
   "outputs": [
    {
     "name": "stdout",
     "output_type": "stream",
     "text": [
      "Fitting 3 folds for each of 384 candidates, totalling 1152 fits\n",
      "Train r2 score: 1.0\n",
      "Test r2 score: 1.0\n",
      "best r2scorethrough grid search cv is: <bound method RegressorMixin.score of BaggingRegressor(estimator=LinearRegression(), max_samples=0.25,\n",
      "                 n_estimators=50, n_jobs=-1, random_state=1)>\n",
      "Best parameter that we can use: {'bootstrap': True, 'bootstrap_features': False, 'estimator': LinearRegression(), 'max_features': 1.0, 'max_samples': 0.25, 'n_estimators': 50}\n"
     ]
    }
   ],
   "source": [
    "param={\n",
    "    'estimator' :[None, LinearRegression() , DecisionTreeRegressor()],\n",
    "    'n_estimators'  :[50,100,150,300],\n",
    "    'max_samples'  :[0.25,0.4,0.6,1.0],\n",
    "    'max_features' :[0.5,1.0],\n",
    "    'bootstrap'  :[True,False],\n",
    "    'bootstrap_features' :[True,False]\n",
    "    }\n",
    "\n",
    "bagging_regressor_Grid=GridSearchCV(BaggingRegressor(random_state=1,n_jobs=-1),param_grid=param,cv=3,n_jobs=1,verbose=1)\n",
    "bagging_regressor_Grid.fit(x_train,y_train)\n",
    "\n",
    "print(\"Train r2 score:\",bagging_regressor_Grid.best_estimator_.score(x_train,y_train))\n",
    "print(\"Test r2 score:\",bagging_regressor_Grid.best_estimator_.score(x_test,y_test))\n",
    "print(\"best r2scorethrough grid search cv is:\",bagging_regressor_Grid.best_estimator_.score)\n",
    "print(\"Best parameter that we can use:\",bagging_regressor_Grid.best_params_)"
   ]
  },
  {
   "cell_type": "code",
   "execution_count": 43,
   "id": "37702ac8-e765-4478-a9a8-7d43ff1b58e3",
   "metadata": {},
   "outputs": [],
   "source": [
    "from sklearn.model_selection import max_features"
   ]
  },
  {
   "cell_type": "code",
   "execution_count": null,
   "id": "7f1b8619-9dbd-49be-bc95-624053b4e14d",
   "metadata": {},
   "outputs": [],
   "source": [
    "Ran"
   ]
  }
 ],
 "metadata": {
  "kernelspec": {
   "display_name": "Python 3 (ipykernel)",
   "language": "python",
   "name": "python3"
  },
  "language_info": {
   "codemirror_mode": {
    "name": "ipython",
    "version": 3
   },
   "file_extension": ".py",
   "mimetype": "text/x-python",
   "name": "python",
   "nbconvert_exporter": "python",
   "pygments_lexer": "ipython3",
   "version": "3.12.0"
  },
  "widgets": {
   "application/vnd.jupyter.widget-state+json": {
    "state": {},
    "version_major": 2,
    "version_minor": 0
   }
  }
 },
 "nbformat": 4,
 "nbformat_minor": 5
}
