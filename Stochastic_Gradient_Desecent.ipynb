{
 "cells": [
  {
   "cell_type": "code",
   "execution_count": 56,
   "id": "d3f23e48-0220-43ae-b93e-958214f2e6f8",
   "metadata": {},
   "outputs": [],
   "source": [
    "import pandas as pd\n",
    "import numpy as np\n",
    "from sklearn.datasets import load_diabetes\n",
    "from sklearn.model_selection import train_test_split\n",
    "from sklearn.linear_model import LinearRegression\t\n",
    "from sklearn.metrics import r2_score\n",
    "import time"
   ]
  },
  {
   "cell_type": "code",
   "execution_count": 2,
   "id": "ae5413ac-4c16-48b6-9f4e-bff158494bda",
   "metadata": {},
   "outputs": [],
   "source": [
    "x,y=load_diabetes(return_X_y=True)"
   ]
  },
  {
   "cell_type": "code",
   "execution_count": 8,
   "id": "c9624097-6b02-4ac3-80ea-db9cd0f46f39",
   "metadata": {},
   "outputs": [],
   "source": [
    "x_train,x_test,y_train,y_test=train_test_split(x,y,test_size=0.2,random_state=2)"
   ]
  },
  {
   "cell_type": "code",
   "execution_count": 12,
   "id": "064befa5-0bcb-492c-b207-8c82e66c1256",
   "metadata": {},
   "outputs": [],
   "source": [
    "Lr=LinearRegression()\n"
   ]
  },
  {
   "cell_type": "code",
   "execution_count": 58,
   "id": "13f40891-0ff7-483b-8ea3-5c61de966f54",
   "metadata": {},
   "outputs": [
    {
     "name": "stdout",
     "output_type": "stream",
     "text": [
      "Time taken by Sklearn_Class: 0.015617609024047852\n"
     ]
    }
   ],
   "source": [
    "start=time.time()\n",
    "Lr.fit(x_train,y_train)\n",
    "print(\"Time taken by Sklearn_Class:\",time.time()-start)"
   ]
  },
  {
   "cell_type": "code",
   "execution_count": 15,
   "id": "5bc91b1a-ee34-4a79-94f4-d17f0c65791b",
   "metadata": {},
   "outputs": [
    {
     "data": {
      "text/plain": [
       "array([  -9.15865318, -205.45432163,  516.69374454,  340.61999905,\n",
       "       -895.5520019 ,  561.22067904,  153.89310954,  126.73139688,\n",
       "        861.12700152,   52.42112238])"
      ]
     },
     "execution_count": 15,
     "metadata": {},
     "output_type": "execute_result"
    }
   ],
   "source": [
    "Lr.coef_"
   ]
  },
  {
   "cell_type": "code",
   "execution_count": 16,
   "id": "2aabe98b-29d4-4f5b-940e-437988b8988c",
   "metadata": {},
   "outputs": [
    {
     "data": {
      "text/plain": [
       "151.88331005254167"
      ]
     },
     "execution_count": 16,
     "metadata": {},
     "output_type": "execute_result"
    }
   ],
   "source": [
    "Lr.intercept_"
   ]
  },
  {
   "cell_type": "code",
   "execution_count": 17,
   "id": "11e80b60-56f2-4327-9ad7-76c72a165a3b",
   "metadata": {},
   "outputs": [],
   "source": [
    "y_pred=Lr.predict(x_test)"
   ]
  },
  {
   "cell_type": "code",
   "execution_count": 20,
   "id": "de517391-2124-4737-8dab-6e2fe58e0082",
   "metadata": {},
   "outputs": [
    {
     "data": {
      "text/plain": [
       "0.4399338661568968"
      ]
     },
     "execution_count": 20,
     "metadata": {},
     "output_type": "execute_result"
    }
   ],
   "source": [
    "r2_score(y_test,y_pred)"
   ]
  },
  {
   "cell_type": "code",
   "execution_count": 21,
   "id": "9c8e15f3-76a1-4e56-a68e-5a4008d0908b",
   "metadata": {},
   "outputs": [],
   "source": [
    "#Now work with own class."
   ]
  },
  {
   "cell_type": "code",
   "execution_count": 65,
   "id": "2e14887c-a3f6-4e94-8b12-b39f166e6529",
   "metadata": {},
   "outputs": [],
   "source": [
    "class SGDRegressor:\n",
    "    def __init__(self,learning_rate,epoch):\n",
    "        self.coef_=None\n",
    "        self.intercept_=None\n",
    "        self.lr=learning_rate\n",
    "        self.epoch=epoch\n",
    "    def fitdata(self,x_train,y_train):\n",
    "        #initialize the coef and intecept\n",
    "        self.intercept_=0\n",
    "        self.coef_=np.ones(x_train.shape[1])\n",
    "        for i in range(self.epoch):\n",
    "            for j in range(x_train.shape[0]):\n",
    "                idx=np.random.randint(0,x_train.shape[0])\n",
    "\n",
    "                #now calculate intercept_\n",
    "                y_hat = np.dot (x_train[idx] , self.coef_) + self.intercept_\n",
    "                der_intercept = - 2 * (y_train[idx] - y_hat)\n",
    "                self.intercept_=self.intercept_ - (self.lr * der_intercept)\n",
    "\n",
    "                #NOW Calculate the coef_:\n",
    "                der_coef = -2 * np.dot((y_train[idx] - y_hat), x_train[idx])\n",
    "                self.coef_ = self.coef_ - ( self.lr * der_coef)\n",
    "        print(\"intercept_\",self.intercept_)\n",
    "        print(\"Coef_\",self.coef_)\n",
    "    def predict(self,x_test):\n",
    "        return np.dot(x_test,self.coef_) + self.intercept_\n",
    "    "
   ]
  },
  {
   "cell_type": "code",
   "execution_count": 110,
   "id": "a3ca86f3-52db-4c9f-8ccc-46d5277cbf42",
   "metadata": {},
   "outputs": [],
   "source": [
    "sgd=SGDRegressor(0.1,30)"
   ]
  },
  {
   "cell_type": "code",
   "execution_count": 111,
   "id": "fce47f21-41b2-405d-baee-e9b339e3bb29",
   "metadata": {
    "scrolled": true
   },
   "outputs": [
    {
     "name": "stdout",
     "output_type": "stream",
     "text": [
      "intercept_ 163.2025384445682\n",
      "Coef_ [   6.07876824 -212.12424402  518.65953191  366.62820755  -67.14352471\n",
      " -157.02251957 -161.83656053   56.03396697  528.79785      67.52471765]\n",
      "The time taken by my class is: 0.2656087875366211\n"
     ]
    }
   ],
   "source": [
    "now=time.time()\n",
    "sgd.fitdata(x_train,y_train)\n",
    "print(\"The time taken by my class is:\",time.time()-now)"
   ]
  },
  {
   "cell_type": "code",
   "execution_count": 112,
   "id": "93289a7f-2f4b-4b58-9f75-9dcd3ff309f1",
   "metadata": {},
   "outputs": [],
   "source": [
    "y_pred=sgd.predict(x_test)"
   ]
  },
  {
   "cell_type": "code",
   "execution_count": 113,
   "id": "538fd658-ac1f-46d1-9c29-cdb8ba3c60d2",
   "metadata": {},
   "outputs": [
    {
     "data": {
      "text/plain": [
       "0.4210429968188456"
      ]
     },
     "execution_count": 113,
     "metadata": {},
     "output_type": "execute_result"
    }
   ],
   "source": [
    "r2_score(y_test,y_pred)"
   ]
  },
  {
   "cell_type": "code",
   "execution_count": null,
   "id": "c1348468-c22a-4357-98d4-a6edf15ddc8b",
   "metadata": {},
   "outputs": [],
   "source": []
  }
 ],
 "metadata": {
  "kernelspec": {
   "display_name": "Python 3 (ipykernel)",
   "language": "python",
   "name": "python3"
  },
  "language_info": {
   "codemirror_mode": {
    "name": "ipython",
    "version": 3
   },
   "file_extension": ".py",
   "mimetype": "text/x-python",
   "name": "python",
   "nbconvert_exporter": "python",
   "pygments_lexer": "ipython3",
   "version": "3.12.0"
  },
  "widgets": {
   "application/vnd.jupyter.widget-state+json": {
    "state": {},
    "version_major": 2,
    "version_minor": 0
   }
  }
 },
 "nbformat": 4,
 "nbformat_minor": 5
}
