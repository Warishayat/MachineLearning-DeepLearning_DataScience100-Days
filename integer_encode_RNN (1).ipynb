{
  "nbformat": 4,
  "nbformat_minor": 0,
  "metadata": {
    "colab": {
      "provenance": [],
      "gpuType": "T4"
    },
    "kernelspec": {
      "name": "python3",
      "display_name": "Python 3"
    },
    "language_info": {
      "name": "python"
    },
    "accelerator": "GPU"
  },
  "cells": [
    {
      "cell_type": "code",
      "execution_count": 2,
      "metadata": {
        "id": "lwAjx2OJjA-a"
      },
      "outputs": [],
      "source": [
        "docs = [\"I absolutely love this product!\",\n",
        "\"This is the worst service I have ever experienced.\",\n",
        "\"The movie was just okay, nothing special.\",\n",
        "\"I am extremely happy with my purchase.\",\n",
        "\"The food was terrible and overpriced.\",\n",
        "\"I feel so excited about the new project.\",\n",
        "\"The customer support was very helpful and friendly.\",\n",
        "\"I am disappointed with the quality of the item.\",\n",
        "\"The weather today is perfect for a picnic.\",\n",
        "\"I am not satisfied with the delivery time.\",\n",
        "\"The book was incredibly boring and hard to finish.\",\n",
        "\"I am thrilled with the results of the experiment.\",\n",
        "\"The app is very user-friendly and intuitive.\",\n",
        "\"I am frustrated with the constant delays.\",\n",
        "\"The concert was an unforgettable experience.\",\n",
        "\"I am worried about the upcoming exam.\",\n",
        "\"The hotel room was clean and comfortable.\",\n",
        "\"I am angry about the unfair treatment.\",\n",
        "\"The game was exciting and kept me on the edge of my seat.\",\n",
        "\"I am grateful for the support from my friends.\",\n",
        "\"The software is full of bugs and crashes often.\",\n",
        "\"I am impressed with the new features.\",\n",
        "\"The lecture was informative and engaging.\",\n",
        "\"I am sad about the news I received.\",\n",
        "\"The restaurant has a cozy atmosphere and delicious food.\",\n",
        "\"I am annoyed by the loud noise outside.\",\n",
        "\"The painting is beautiful and inspiring.\",\n",
        "\"I am confused by the instructions provided\",\n",
        "\"The event was well-organized and enjoyable\",\n",
        "\"I am relieved that the problem was resolved quickly\"]"
      ]
    },
    {
      "cell_type": "code",
      "source": [
        "import tensorflow as tf\n",
        "from tensorflow import keras"
      ],
      "metadata": {
        "id": "JDL0H9EylQjA"
      },
      "execution_count": 8,
      "outputs": []
    },
    {
      "cell_type": "code",
      "source": [
        "from tensorflow.keras.preprocessing.text import Tokenizer\n",
        "\n",
        "Token = Tokenizer(oov_token=\"nothing\")\n",
        "Token.fit_on_texts(docs)"
      ],
      "metadata": {
        "id": "S-G7OVudkuL1"
      },
      "execution_count": 11,
      "outputs": []
    },
    {
      "cell_type": "code",
      "source": [
        "Token.word_index"
      ],
      "metadata": {
        "colab": {
          "base_uri": "https://localhost:8080/"
        },
        "id": "6ps09G2lk_jK",
        "outputId": "12e880ef-9e10-433b-d554-7d24065c8f8a"
      },
      "execution_count": 16,
      "outputs": [
        {
          "output_type": "execute_result",
          "data": {
            "text/plain": [
              "{'nothing': 32,\n",
              " 'the': 2,\n",
              " 'i': 3,\n",
              " 'am': 4,\n",
              " 'and': 5,\n",
              " 'was': 6,\n",
              " 'with': 7,\n",
              " 'is': 8,\n",
              " 'about': 9,\n",
              " 'of': 10,\n",
              " 'my': 11,\n",
              " 'this': 12,\n",
              " 'food': 13,\n",
              " 'new': 14,\n",
              " 'support': 15,\n",
              " 'very': 16,\n",
              " 'friendly': 17,\n",
              " 'for': 18,\n",
              " 'a': 19,\n",
              " 'by': 20,\n",
              " 'absolutely': 21,\n",
              " 'love': 22,\n",
              " 'product': 23,\n",
              " 'worst': 24,\n",
              " 'service': 25,\n",
              " 'have': 26,\n",
              " 'ever': 27,\n",
              " 'experienced': 28,\n",
              " 'movie': 29,\n",
              " 'just': 30,\n",
              " 'okay': 31,\n",
              " 'special': 33,\n",
              " 'extremely': 34,\n",
              " 'happy': 35,\n",
              " 'purchase': 36,\n",
              " 'terrible': 37,\n",
              " 'overpriced': 38,\n",
              " 'feel': 39,\n",
              " 'so': 40,\n",
              " 'excited': 41,\n",
              " 'project': 42,\n",
              " 'customer': 43,\n",
              " 'helpful': 44,\n",
              " 'disappointed': 45,\n",
              " 'quality': 46,\n",
              " 'item': 47,\n",
              " 'weather': 48,\n",
              " 'today': 49,\n",
              " 'perfect': 50,\n",
              " 'picnic': 51,\n",
              " 'not': 52,\n",
              " 'satisfied': 53,\n",
              " 'delivery': 54,\n",
              " 'time': 55,\n",
              " 'book': 56,\n",
              " 'incredibly': 57,\n",
              " 'boring': 58,\n",
              " 'hard': 59,\n",
              " 'to': 60,\n",
              " 'finish': 61,\n",
              " 'thrilled': 62,\n",
              " 'results': 63,\n",
              " 'experiment': 64,\n",
              " 'app': 65,\n",
              " 'user': 66,\n",
              " 'intuitive': 67,\n",
              " 'frustrated': 68,\n",
              " 'constant': 69,\n",
              " 'delays': 70,\n",
              " 'concert': 71,\n",
              " 'an': 72,\n",
              " 'unforgettable': 73,\n",
              " 'experience': 74,\n",
              " 'worried': 75,\n",
              " 'upcoming': 76,\n",
              " 'exam': 77,\n",
              " 'hotel': 78,\n",
              " 'room': 79,\n",
              " 'clean': 80,\n",
              " 'comfortable': 81,\n",
              " 'angry': 82,\n",
              " 'unfair': 83,\n",
              " 'treatment': 84,\n",
              " 'game': 85,\n",
              " 'exciting': 86,\n",
              " 'kept': 87,\n",
              " 'me': 88,\n",
              " 'on': 89,\n",
              " 'edge': 90,\n",
              " 'seat': 91,\n",
              " 'grateful': 92,\n",
              " 'from': 93,\n",
              " 'friends': 94,\n",
              " 'software': 95,\n",
              " 'full': 96,\n",
              " 'bugs': 97,\n",
              " 'crashes': 98,\n",
              " 'often': 99,\n",
              " 'impressed': 100,\n",
              " 'features': 101,\n",
              " 'lecture': 102,\n",
              " 'informative': 103,\n",
              " 'engaging': 104,\n",
              " 'sad': 105,\n",
              " 'news': 106,\n",
              " 'received': 107,\n",
              " 'restaurant': 108,\n",
              " 'has': 109,\n",
              " 'cozy': 110,\n",
              " 'atmosphere': 111,\n",
              " 'delicious': 112,\n",
              " 'annoyed': 113,\n",
              " 'loud': 114,\n",
              " 'noise': 115,\n",
              " 'outside': 116,\n",
              " 'painting': 117,\n",
              " 'beautiful': 118,\n",
              " 'inspiring': 119,\n",
              " 'confused': 120,\n",
              " 'instructions': 121,\n",
              " 'provided': 122,\n",
              " 'event': 123,\n",
              " 'well': 124,\n",
              " 'organized': 125,\n",
              " 'enjoyable': 126,\n",
              " 'relieved': 127,\n",
              " 'that': 128,\n",
              " 'problem': 129,\n",
              " 'resolved': 130,\n",
              " 'quickly': 131}"
            ]
          },
          "metadata": {},
          "execution_count": 16
        }
      ]
    },
    {
      "cell_type": "code",
      "source": [
        "Token.word_counts"
      ],
      "metadata": {
        "colab": {
          "base_uri": "https://localhost:8080/"
        },
        "id": "ZWkvkb9nl6hn",
        "outputId": "a8b5de6a-3036-46d5-c2be-3ca6878eaf09"
      },
      "execution_count": 17,
      "outputs": [
        {
          "output_type": "execute_result",
          "data": {
            "text/plain": [
              "OrderedDict([('i', 17),\n",
              "             ('absolutely', 1),\n",
              "             ('love', 1),\n",
              "             ('this', 2),\n",
              "             ('product', 1),\n",
              "             ('is', 5),\n",
              "             ('the', 31),\n",
              "             ('worst', 1),\n",
              "             ('service', 1),\n",
              "             ('have', 1),\n",
              "             ('ever', 1),\n",
              "             ('experienced', 1),\n",
              "             ('movie', 1),\n",
              "             ('was', 10),\n",
              "             ('just', 1),\n",
              "             ('okay', 1),\n",
              "             ('nothing', 1),\n",
              "             ('special', 1),\n",
              "             ('am', 13),\n",
              "             ('extremely', 1),\n",
              "             ('happy', 1),\n",
              "             ('with', 6),\n",
              "             ('my', 3),\n",
              "             ('purchase', 1),\n",
              "             ('food', 2),\n",
              "             ('terrible', 1),\n",
              "             ('and', 11),\n",
              "             ('overpriced', 1),\n",
              "             ('feel', 1),\n",
              "             ('so', 1),\n",
              "             ('excited', 1),\n",
              "             ('about', 4),\n",
              "             ('new', 2),\n",
              "             ('project', 1),\n",
              "             ('customer', 1),\n",
              "             ('support', 2),\n",
              "             ('very', 2),\n",
              "             ('helpful', 1),\n",
              "             ('friendly', 2),\n",
              "             ('disappointed', 1),\n",
              "             ('quality', 1),\n",
              "             ('of', 4),\n",
              "             ('item', 1),\n",
              "             ('weather', 1),\n",
              "             ('today', 1),\n",
              "             ('perfect', 1),\n",
              "             ('for', 2),\n",
              "             ('a', 2),\n",
              "             ('picnic', 1),\n",
              "             ('not', 1),\n",
              "             ('satisfied', 1),\n",
              "             ('delivery', 1),\n",
              "             ('time', 1),\n",
              "             ('book', 1),\n",
              "             ('incredibly', 1),\n",
              "             ('boring', 1),\n",
              "             ('hard', 1),\n",
              "             ('to', 1),\n",
              "             ('finish', 1),\n",
              "             ('thrilled', 1),\n",
              "             ('results', 1),\n",
              "             ('experiment', 1),\n",
              "             ('app', 1),\n",
              "             ('user', 1),\n",
              "             ('intuitive', 1),\n",
              "             ('frustrated', 1),\n",
              "             ('constant', 1),\n",
              "             ('delays', 1),\n",
              "             ('concert', 1),\n",
              "             ('an', 1),\n",
              "             ('unforgettable', 1),\n",
              "             ('experience', 1),\n",
              "             ('worried', 1),\n",
              "             ('upcoming', 1),\n",
              "             ('exam', 1),\n",
              "             ('hotel', 1),\n",
              "             ('room', 1),\n",
              "             ('clean', 1),\n",
              "             ('comfortable', 1),\n",
              "             ('angry', 1),\n",
              "             ('unfair', 1),\n",
              "             ('treatment', 1),\n",
              "             ('game', 1),\n",
              "             ('exciting', 1),\n",
              "             ('kept', 1),\n",
              "             ('me', 1),\n",
              "             ('on', 1),\n",
              "             ('edge', 1),\n",
              "             ('seat', 1),\n",
              "             ('grateful', 1),\n",
              "             ('from', 1),\n",
              "             ('friends', 1),\n",
              "             ('software', 1),\n",
              "             ('full', 1),\n",
              "             ('bugs', 1),\n",
              "             ('crashes', 1),\n",
              "             ('often', 1),\n",
              "             ('impressed', 1),\n",
              "             ('features', 1),\n",
              "             ('lecture', 1),\n",
              "             ('informative', 1),\n",
              "             ('engaging', 1),\n",
              "             ('sad', 1),\n",
              "             ('news', 1),\n",
              "             ('received', 1),\n",
              "             ('restaurant', 1),\n",
              "             ('has', 1),\n",
              "             ('cozy', 1),\n",
              "             ('atmosphere', 1),\n",
              "             ('delicious', 1),\n",
              "             ('annoyed', 1),\n",
              "             ('by', 2),\n",
              "             ('loud', 1),\n",
              "             ('noise', 1),\n",
              "             ('outside', 1),\n",
              "             ('painting', 1),\n",
              "             ('beautiful', 1),\n",
              "             ('inspiring', 1),\n",
              "             ('confused', 1),\n",
              "             ('instructions', 1),\n",
              "             ('provided', 1),\n",
              "             ('event', 1),\n",
              "             ('well', 1),\n",
              "             ('organized', 1),\n",
              "             ('enjoyable', 1),\n",
              "             ('relieved', 1),\n",
              "             ('that', 1),\n",
              "             ('problem', 1),\n",
              "             ('resolved', 1),\n",
              "             ('quickly', 1)])"
            ]
          },
          "metadata": {},
          "execution_count": 17
        }
      ]
    },
    {
      "cell_type": "code",
      "source": [
        "Token.document_count"
      ],
      "metadata": {
        "colab": {
          "base_uri": "https://localhost:8080/"
        },
        "id": "ZQp210vZmH7l",
        "outputId": "524e3ff3-93bb-48c7-d2e4-47d8f8fbbf87"
      },
      "execution_count": 18,
      "outputs": [
        {
          "output_type": "execute_result",
          "data": {
            "text/plain": [
              "30"
            ]
          },
          "metadata": {},
          "execution_count": 18
        }
      ]
    },
    {
      "cell_type": "code",
      "source": [
        "token_docs = Token.texts_to_sequences(docs)\n",
        "token_docs"
      ],
      "metadata": {
        "colab": {
          "base_uri": "https://localhost:8080/"
        },
        "id": "31CiifJXmQG3",
        "outputId": "6201e61e-9979-4b8c-e22b-905788fb5d3f"
      },
      "execution_count": 20,
      "outputs": [
        {
          "output_type": "execute_result",
          "data": {
            "text/plain": [
              "[[3, 21, 22, 12, 23],\n",
              " [12, 8, 2, 24, 25, 3, 26, 27, 28],\n",
              " [2, 29, 6, 30, 31, 32, 33],\n",
              " [3, 4, 34, 35, 7, 11, 36],\n",
              " [2, 13, 6, 37, 5, 38],\n",
              " [3, 39, 40, 41, 9, 2, 14, 42],\n",
              " [2, 43, 15, 6, 16, 44, 5, 17],\n",
              " [3, 4, 45, 7, 2, 46, 10, 2, 47],\n",
              " [2, 48, 49, 8, 50, 18, 19, 51],\n",
              " [3, 4, 52, 53, 7, 2, 54, 55],\n",
              " [2, 56, 6, 57, 58, 5, 59, 60, 61],\n",
              " [3, 4, 62, 7, 2, 63, 10, 2, 64],\n",
              " [2, 65, 8, 16, 66, 17, 5, 67],\n",
              " [3, 4, 68, 7, 2, 69, 70],\n",
              " [2, 71, 6, 72, 73, 74],\n",
              " [3, 4, 75, 9, 2, 76, 77],\n",
              " [2, 78, 79, 6, 80, 5, 81],\n",
              " [3, 4, 82, 9, 2, 83, 84],\n",
              " [2, 85, 6, 86, 5, 87, 88, 89, 2, 90, 10, 11, 91],\n",
              " [3, 4, 92, 18, 2, 15, 93, 11, 94],\n",
              " [2, 95, 8, 96, 10, 97, 5, 98, 99],\n",
              " [3, 4, 100, 7, 2, 14, 101],\n",
              " [2, 102, 6, 103, 5, 104],\n",
              " [3, 4, 105, 9, 2, 106, 3, 107],\n",
              " [2, 108, 109, 19, 110, 111, 5, 112, 13],\n",
              " [3, 4, 113, 20, 2, 114, 115, 116],\n",
              " [2, 117, 8, 118, 5, 119],\n",
              " [3, 4, 120, 20, 2, 121, 122],\n",
              " [2, 123, 6, 124, 125, 5, 126],\n",
              " [3, 4, 127, 128, 2, 129, 6, 130, 131]]"
            ]
          },
          "metadata": {},
          "execution_count": 20
        }
      ]
    },
    {
      "cell_type": "code",
      "source": [
        "from keras.utils import pad_sequences\n",
        "\n",
        "padding  = pad_sequences(token_docs, padding=\"post\")\n",
        "padding"
      ],
      "metadata": {
        "colab": {
          "base_uri": "https://localhost:8080/"
        },
        "id": "WqWFUBrbmUOf",
        "outputId": "87f131a3-48dc-4a55-abd9-6472a533b7a8"
      },
      "execution_count": 21,
      "outputs": [
        {
          "output_type": "execute_result",
          "data": {
            "text/plain": [
              "array([[  3,  21,  22,  12,  23,   0,   0,   0,   0,   0,   0,   0,   0],\n",
              "       [ 12,   8,   2,  24,  25,   3,  26,  27,  28,   0,   0,   0,   0],\n",
              "       [  2,  29,   6,  30,  31,  32,  33,   0,   0,   0,   0,   0,   0],\n",
              "       [  3,   4,  34,  35,   7,  11,  36,   0,   0,   0,   0,   0,   0],\n",
              "       [  2,  13,   6,  37,   5,  38,   0,   0,   0,   0,   0,   0,   0],\n",
              "       [  3,  39,  40,  41,   9,   2,  14,  42,   0,   0,   0,   0,   0],\n",
              "       [  2,  43,  15,   6,  16,  44,   5,  17,   0,   0,   0,   0,   0],\n",
              "       [  3,   4,  45,   7,   2,  46,  10,   2,  47,   0,   0,   0,   0],\n",
              "       [  2,  48,  49,   8,  50,  18,  19,  51,   0,   0,   0,   0,   0],\n",
              "       [  3,   4,  52,  53,   7,   2,  54,  55,   0,   0,   0,   0,   0],\n",
              "       [  2,  56,   6,  57,  58,   5,  59,  60,  61,   0,   0,   0,   0],\n",
              "       [  3,   4,  62,   7,   2,  63,  10,   2,  64,   0,   0,   0,   0],\n",
              "       [  2,  65,   8,  16,  66,  17,   5,  67,   0,   0,   0,   0,   0],\n",
              "       [  3,   4,  68,   7,   2,  69,  70,   0,   0,   0,   0,   0,   0],\n",
              "       [  2,  71,   6,  72,  73,  74,   0,   0,   0,   0,   0,   0,   0],\n",
              "       [  3,   4,  75,   9,   2,  76,  77,   0,   0,   0,   0,   0,   0],\n",
              "       [  2,  78,  79,   6,  80,   5,  81,   0,   0,   0,   0,   0,   0],\n",
              "       [  3,   4,  82,   9,   2,  83,  84,   0,   0,   0,   0,   0,   0],\n",
              "       [  2,  85,   6,  86,   5,  87,  88,  89,   2,  90,  10,  11,  91],\n",
              "       [  3,   4,  92,  18,   2,  15,  93,  11,  94,   0,   0,   0,   0],\n",
              "       [  2,  95,   8,  96,  10,  97,   5,  98,  99,   0,   0,   0,   0],\n",
              "       [  3,   4, 100,   7,   2,  14, 101,   0,   0,   0,   0,   0,   0],\n",
              "       [  2, 102,   6, 103,   5, 104,   0,   0,   0,   0,   0,   0,   0],\n",
              "       [  3,   4, 105,   9,   2, 106,   3, 107,   0,   0,   0,   0,   0],\n",
              "       [  2, 108, 109,  19, 110, 111,   5, 112,  13,   0,   0,   0,   0],\n",
              "       [  3,   4, 113,  20,   2, 114, 115, 116,   0,   0,   0,   0,   0],\n",
              "       [  2, 117,   8, 118,   5, 119,   0,   0,   0,   0,   0,   0,   0],\n",
              "       [  3,   4, 120,  20,   2, 121, 122,   0,   0,   0,   0,   0,   0],\n",
              "       [  2, 123,   6, 124, 125,   5, 126,   0,   0,   0,   0,   0,   0],\n",
              "       [  3,   4, 127, 128,   2, 129,   6, 130, 131,   0,   0,   0,   0]],\n",
              "      dtype=int32)"
            ]
          },
          "metadata": {},
          "execution_count": 21
        }
      ]
    },
    {
      "cell_type": "code",
      "source": [
        "padding.shape"
      ],
      "metadata": {
        "colab": {
          "base_uri": "https://localhost:8080/"
        },
        "id": "qqvJj_hBmqde",
        "outputId": "7e8b506a-144e-4866-9a8b-eb056d1cf013"
      },
      "execution_count": 22,
      "outputs": [
        {
          "output_type": "execute_result",
          "data": {
            "text/plain": [
              "(30, 13)"
            ]
          },
          "metadata": {},
          "execution_count": 22
        }
      ]
    },
    {
      "cell_type": "code",
      "source": [
        "from keras.models import Sequential\n",
        "from keras.layers import Dense, Flatten, Embedding,SimpleRNN"
      ],
      "metadata": {
        "id": "rVCZWZd6msqd"
      },
      "execution_count": 23,
      "outputs": []
    },
    {
      "cell_type": "code",
      "source": [
        "from keras.datasets import imdb\n",
        "\n",
        "(X_train,y_train),(X_test,y_test) = imdb.load_data()"
      ],
      "metadata": {
        "colab": {
          "base_uri": "https://localhost:8080/"
        },
        "id": "iVaKPYCZm2CV",
        "outputId": "a0888f88-0fa4-479d-f1d4-1866d351e4af"
      },
      "execution_count": 24,
      "outputs": [
        {
          "output_type": "stream",
          "name": "stdout",
          "text": [
            "Downloading data from https://storage.googleapis.com/tensorflow/tf-keras-datasets/imdb.npz\n",
            "\u001b[1m17464789/17464789\u001b[0m \u001b[32m━━━━━━━━━━━━━━━━━━━━\u001b[0m\u001b[37m\u001b[0m \u001b[1m0s\u001b[0m 0us/step\n"
          ]
        }
      ]
    },
    {
      "cell_type": "code",
      "source": [
        "X_train.shape,X_test.shape"
      ],
      "metadata": {
        "colab": {
          "base_uri": "https://localhost:8080/"
        },
        "id": "NYlmnR2enIRz",
        "outputId": "0eb3859f-de2c-48cf-b2b6-072e5671f005"
      },
      "execution_count": 25,
      "outputs": [
        {
          "output_type": "execute_result",
          "data": {
            "text/plain": [
              "((25000,), (25000,))"
            ]
          },
          "metadata": {},
          "execution_count": 25
        }
      ]
    },
    {
      "cell_type": "code",
      "source": [
        "x_train =  pad_sequences(X_train,padding=\"post\")\n",
        "x_test = pad_sequences(X_test,padding=\"post\")"
      ],
      "metadata": {
        "id": "7tckqSaBnNBk"
      },
      "execution_count": 31,
      "outputs": []
    },
    {
      "cell_type": "code",
      "source": [
        "model = Sequential()\n",
        "\n",
        "model.add(SimpleRNN(32,input_shape=(2494,1),return_sequences=False))\n",
        "model.add(Dense(1,activation=\"sigmoid\"))\n",
        "\n",
        "model.summary()"
      ],
      "metadata": {
        "colab": {
          "base_uri": "https://localhost:8080/",
          "height": 254
        },
        "id": "buagqtJLnR1J",
        "outputId": "8ee54d41-2cd9-49ec-e221-18011c1d9985"
      },
      "execution_count": 42,
      "outputs": [
        {
          "output_type": "stream",
          "name": "stderr",
          "text": [
            "/usr/local/lib/python3.10/dist-packages/keras/src/layers/rnn/rnn.py:204: UserWarning: Do not pass an `input_shape`/`input_dim` argument to a layer. When using Sequential models, prefer using an `Input(shape)` object as the first layer in the model instead.\n",
            "  super().__init__(**kwargs)\n"
          ]
        },
        {
          "output_type": "display_data",
          "data": {
            "text/plain": [
              "\u001b[1mModel: \"sequential\"\u001b[0m\n"
            ],
            "text/html": [
              "<pre style=\"white-space:pre;overflow-x:auto;line-height:normal;font-family:Menlo,'DejaVu Sans Mono',consolas,'Courier New',monospace\"><span style=\"font-weight: bold\">Model: \"sequential\"</span>\n",
              "</pre>\n"
            ]
          },
          "metadata": {}
        },
        {
          "output_type": "display_data",
          "data": {
            "text/plain": [
              "┏━━━━━━━━━━━━━━━━━━━━━━━━━━━━━━━━━━━━━━┳━━━━━━━━━━━━━━━━━━━━━━━━━━━━━┳━━━━━━━━━━━━━━━━━┓\n",
              "┃\u001b[1m \u001b[0m\u001b[1mLayer (type)                        \u001b[0m\u001b[1m \u001b[0m┃\u001b[1m \u001b[0m\u001b[1mOutput Shape               \u001b[0m\u001b[1m \u001b[0m┃\u001b[1m \u001b[0m\u001b[1m        Param #\u001b[0m\u001b[1m \u001b[0m┃\n",
              "┡━━━━━━━━━━━━━━━━━━━━━━━━━━━━━━━━━━━━━━╇━━━━━━━━━━━━━━━━━━━━━━━━━━━━━╇━━━━━━━━━━━━━━━━━┩\n",
              "│ simple_rnn (\u001b[38;5;33mSimpleRNN\u001b[0m)               │ (\u001b[38;5;45mNone\u001b[0m, \u001b[38;5;34m32\u001b[0m)                  │           \u001b[38;5;34m1,088\u001b[0m │\n",
              "├──────────────────────────────────────┼─────────────────────────────┼─────────────────┤\n",
              "│ dense (\u001b[38;5;33mDense\u001b[0m)                        │ (\u001b[38;5;45mNone\u001b[0m, \u001b[38;5;34m1\u001b[0m)                   │              \u001b[38;5;34m33\u001b[0m │\n",
              "└──────────────────────────────────────┴─────────────────────────────┴─────────────────┘\n"
            ],
            "text/html": [
              "<pre style=\"white-space:pre;overflow-x:auto;line-height:normal;font-family:Menlo,'DejaVu Sans Mono',consolas,'Courier New',monospace\">┏━━━━━━━━━━━━━━━━━━━━━━━━━━━━━━━━━━━━━━┳━━━━━━━━━━━━━━━━━━━━━━━━━━━━━┳━━━━━━━━━━━━━━━━━┓\n",
              "┃<span style=\"font-weight: bold\"> Layer (type)                         </span>┃<span style=\"font-weight: bold\"> Output Shape                </span>┃<span style=\"font-weight: bold\">         Param # </span>┃\n",
              "┡━━━━━━━━━━━━━━━━━━━━━━━━━━━━━━━━━━━━━━╇━━━━━━━━━━━━━━━━━━━━━━━━━━━━━╇━━━━━━━━━━━━━━━━━┩\n",
              "│ simple_rnn (<span style=\"color: #0087ff; text-decoration-color: #0087ff\">SimpleRNN</span>)               │ (<span style=\"color: #00d7ff; text-decoration-color: #00d7ff\">None</span>, <span style=\"color: #00af00; text-decoration-color: #00af00\">32</span>)                  │           <span style=\"color: #00af00; text-decoration-color: #00af00\">1,088</span> │\n",
              "├──────────────────────────────────────┼─────────────────────────────┼─────────────────┤\n",
              "│ dense (<span style=\"color: #0087ff; text-decoration-color: #0087ff\">Dense</span>)                        │ (<span style=\"color: #00d7ff; text-decoration-color: #00d7ff\">None</span>, <span style=\"color: #00af00; text-decoration-color: #00af00\">1</span>)                   │              <span style=\"color: #00af00; text-decoration-color: #00af00\">33</span> │\n",
              "└──────────────────────────────────────┴─────────────────────────────┴─────────────────┘\n",
              "</pre>\n"
            ]
          },
          "metadata": {}
        },
        {
          "output_type": "display_data",
          "data": {
            "text/plain": [
              "\u001b[1m Total params: \u001b[0m\u001b[38;5;34m1,121\u001b[0m (4.38 KB)\n"
            ],
            "text/html": [
              "<pre style=\"white-space:pre;overflow-x:auto;line-height:normal;font-family:Menlo,'DejaVu Sans Mono',consolas,'Courier New',monospace\"><span style=\"font-weight: bold\"> Total params: </span><span style=\"color: #00af00; text-decoration-color: #00af00\">1,121</span> (4.38 KB)\n",
              "</pre>\n"
            ]
          },
          "metadata": {}
        },
        {
          "output_type": "display_data",
          "data": {
            "text/plain": [
              "\u001b[1m Trainable params: \u001b[0m\u001b[38;5;34m1,121\u001b[0m (4.38 KB)\n"
            ],
            "text/html": [
              "<pre style=\"white-space:pre;overflow-x:auto;line-height:normal;font-family:Menlo,'DejaVu Sans Mono',consolas,'Courier New',monospace\"><span style=\"font-weight: bold\"> Trainable params: </span><span style=\"color: #00af00; text-decoration-color: #00af00\">1,121</span> (4.38 KB)\n",
              "</pre>\n"
            ]
          },
          "metadata": {}
        },
        {
          "output_type": "display_data",
          "data": {
            "text/plain": [
              "\u001b[1m Non-trainable params: \u001b[0m\u001b[38;5;34m0\u001b[0m (0.00 B)\n"
            ],
            "text/html": [
              "<pre style=\"white-space:pre;overflow-x:auto;line-height:normal;font-family:Menlo,'DejaVu Sans Mono',consolas,'Courier New',monospace\"><span style=\"font-weight: bold\"> Non-trainable params: </span><span style=\"color: #00af00; text-decoration-color: #00af00\">0</span> (0.00 B)\n",
              "</pre>\n"
            ]
          },
          "metadata": {}
        }
      ]
    },
    {
      "cell_type": "code",
      "source": [
        "model.compile(loss=\"binary_crossentropy\",optimizer=\"adam\",metrics=[\"accuracy\"])"
      ],
      "metadata": {
        "id": "6AyHp69BnmdZ"
      },
      "execution_count": 43,
      "outputs": []
    },
    {
      "cell_type": "code",
      "source": [
        "history=model.fit(x_train,y_train,epochs=5,validation_data=(x_test,y_test))"
      ],
      "metadata": {
        "colab": {
          "base_uri": "https://localhost:8080/"
        },
        "id": "VUFj7hB4nxBc",
        "outputId": "93417ef3-15b8-46b9-f2fd-620e165d8077"
      },
      "execution_count": 45,
      "outputs": [
        {
          "output_type": "stream",
          "name": "stdout",
          "text": [
            "Epoch 1/5\n",
            "\u001b[1m782/782\u001b[0m \u001b[32m━━━━━━━━━━━━━━━━━━━━\u001b[0m\u001b[37m\u001b[0m \u001b[1m231s\u001b[0m 296ms/step - accuracy: 0.5046 - loss: 0.6935 - val_accuracy: 0.5025 - val_loss: 0.6936\n",
            "Epoch 2/5\n",
            "\u001b[1m782/782\u001b[0m \u001b[32m━━━━━━━━━━━━━━━━━━━━\u001b[0m\u001b[37m\u001b[0m \u001b[1m259s\u001b[0m 292ms/step - accuracy: 0.5028 - loss: 0.6935 - val_accuracy: 0.5000 - val_loss: 0.6935\n",
            "Epoch 3/5\n",
            "\u001b[1m782/782\u001b[0m \u001b[32m━━━━━━━━━━━━━━━━━━━━\u001b[0m\u001b[37m\u001b[0m \u001b[1m261s\u001b[0m 291ms/step - accuracy: 0.5013 - loss: 0.6941 - val_accuracy: 0.5000 - val_loss: 0.6943\n",
            "Epoch 4/5\n",
            "\u001b[1m782/782\u001b[0m \u001b[32m━━━━━━━━━━━━━━━━━━━━\u001b[0m\u001b[37m\u001b[0m \u001b[1m228s\u001b[0m 292ms/step - accuracy: 0.4969 - loss: 0.6940 - val_accuracy: 0.5000 - val_loss: 0.6932\n",
            "Epoch 5/5\n",
            "\u001b[1m782/782\u001b[0m \u001b[32m━━━━━━━━━━━━━━━━━━━━\u001b[0m\u001b[37m\u001b[0m \u001b[1m262s\u001b[0m 292ms/step - accuracy: 0.4962 - loss: 0.6942 - val_accuracy: 0.5000 - val_loss: 0.6932\n"
          ]
        }
      ]
    },
    {
      "cell_type": "code",
      "source": [],
      "metadata": {
        "id": "7mUschDMos40"
      },
      "execution_count": null,
      "outputs": []
    }
  ]
}