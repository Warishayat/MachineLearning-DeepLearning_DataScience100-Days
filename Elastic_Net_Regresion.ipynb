{
 "cells": [
  {
   "cell_type": "code",
   "execution_count": 4,
   "id": "d0b78778-1a81-4d72-9682-5fb7689876f4",
   "metadata": {},
   "outputs": [],
   "source": [
    "#i will compare side by side ridge lasso and elastic net regression\n",
    "import pandas as pd\n",
    "import numpy as np\n",
    "from sklearn.datasets import load_diabetes\n",
    "from sklearn.model_selection import train_test_split\n",
    "from sklearn.metrics import r2_score\n",
    "from sklearn.linear_model import Ridge,Lasso,ElasticNet"
   ]
  },
  {
   "cell_type": "code",
   "execution_count": 6,
   "id": "30803918-7017-4974-b2e1-018c38c741dc",
   "metadata": {},
   "outputs": [],
   "source": [
    "x,y=load_diabetes(return_X_y=True)"
   ]
  },
  {
   "cell_type": "code",
   "execution_count": 9,
   "id": "e4294a24-f72d-4d20-9fe0-46f736a4f366",
   "metadata": {},
   "outputs": [],
   "source": [
    "x_train,x_test,y_train,y_test=train_test_split(x,y,test_size=0.2,random_state=42)"
   ]
  },
  {
   "cell_type": "code",
   "execution_count": 24,
   "id": "4c50cb0b-b4d2-4af2-884c-5ee8de6e91f7",
   "metadata": {},
   "outputs": [
    {
     "data": {
      "text/plain": [
       "45.34280301019331"
      ]
     },
     "execution_count": 24,
     "metadata": {},
     "output_type": "execute_result"
    }
   ],
   "source": [
    "#Ridge regression\n",
    "l1=Ridge(alpha=0.001)\n",
    "l1.fit(x_train,y_train)\n",
    "y1=l1.predict(x_test)\n",
    "r2_score(y_test,y1)*100"
   ]
  },
  {
   "cell_type": "code",
   "execution_count": 34,
   "id": "62b0f671-779f-48d2-8073-8ebc3430205f",
   "metadata": {},
   "outputs": [
    {
     "data": {
      "text/plain": [
       "47.18547867276227"
      ]
     },
     "execution_count": 34,
     "metadata": {},
     "output_type": "execute_result"
    }
   ],
   "source": [
    "#Lasso_regression\n",
    "l2=Lasso(alpha=0.1)\n",
    "l2.fit(x_train,y_train)\n",
    "y2=l2.predict(x_test)\n",
    "r2_score(y_test,y2)*100"
   ]
  },
  {
   "cell_type": "code",
   "execution_count": 65,
   "id": "c625337a-1a49-4c13-91b8-b5000ab6e7be",
   "metadata": {},
   "outputs": [
    {
     "data": {
      "text/plain": [
       "0.46192536271651097"
      ]
     },
     "execution_count": 65,
     "metadata": {},
     "output_type": "execute_result"
    }
   ],
   "source": [
    "#Elastic_Net_Regression\n",
    "l3=ElasticNet(alpha=0.005,l1_ratio=0.9)\n",
    "l3.fit(x_train,y_train)\n",
    "y3=l3.predict(x_test)\n",
    "r2_score(y_test,y3)"
   ]
  },
  {
   "cell_type": "code",
   "execution_count": null,
   "id": "a3fdba84-15e0-47c8-a626-54515775eb8d",
   "metadata": {},
   "outputs": [],
   "source": []
  }
 ],
 "metadata": {
  "kernelspec": {
   "display_name": "Python 3 (ipykernel)",
   "language": "python",
   "name": "python3"
  },
  "language_info": {
   "codemirror_mode": {
    "name": "ipython",
    "version": 3
   },
   "file_extension": ".py",
   "mimetype": "text/x-python",
   "name": "python",
   "nbconvert_exporter": "python",
   "pygments_lexer": "ipython3",
   "version": "3.12.0"
  },
  "widgets": {
   "application/vnd.jupyter.widget-state+json": {
    "state": {},
    "version_major": 2,
    "version_minor": 0
   }
  }
 },
 "nbformat": 4,
 "nbformat_minor": 5
}
