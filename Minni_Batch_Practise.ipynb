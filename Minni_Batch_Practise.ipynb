{
 "cells": [
  {
   "cell_type": "code",
   "execution_count": 89,
   "id": "1fe02494-4761-4835-8a68-85aac8d0cd2f",
   "metadata": {},
   "outputs": [],
   "source": [
    "import pandas as pd\n",
    "import numpy as np\n",
    "from sklearn.datasets import load_diabetes\n",
    "from sklearn.metrics import r2_score\n",
    "from sklearn.model_selection import train_test_split\n",
    "from sklearn.linear_model import SGDRegressor"
   ]
  },
  {
   "cell_type": "code",
   "execution_count": 90,
   "id": "1bedd16e-ee54-4b1f-9eb3-a1b4febf68b4",
   "metadata": {},
   "outputs": [],
   "source": [
    "x,y=load_diabetes(return_X_y=True)"
   ]
  },
  {
   "cell_type": "code",
   "execution_count": 91,
   "id": "aa0cb86b-6f2c-4901-b5e9-21b2bede230d",
   "metadata": {},
   "outputs": [],
   "source": [
    "x_train,x_test,y_train,y_test = train_test_split(x,y,test_size=0.2,random_state=12)"
   ]
  },
  {
   "cell_type": "code",
   "execution_count": 102,
   "id": "b2f5edf4-bec0-42bc-9b75-215e17160efb",
   "metadata": {},
   "outputs": [],
   "source": [
    "import random \n",
    "class MinniBatchGradientDesecent:\n",
    "    def __init__(self,learning_rate,epoch,batch_size):\n",
    "        self.learning_rate=learning_rate\n",
    "        self.epoch = epoch\n",
    "        self.batch_size=batch_size\n",
    "        self.coef_ = None\n",
    "        self.intercept_ = None\n",
    "\n",
    "    #method train the data\n",
    "    def fitData(self,x_train,y_train):\n",
    "\n",
    "        self.coef_ = np.ones(x_train.shape[1])\n",
    "        self.intercept_ = 0\n",
    "        for i in range(self.epoch):\n",
    "            for j in range(int(x_train.shape[0] / self.batch_size)):\n",
    "                idx=random.sample(range(x_train.shape[0]),self.batch_size)\n",
    "                #calculate intercept_\n",
    "                y_hat = np.dot(x_train[idx],self.coef_) + self.intercept_\n",
    "                der_intercept_ = -2 * np.mean(y_train[idx] - y_hat)\n",
    "                self.intercept_ =self.intercept_ - (self.learning_rate * der_intercept_)\n",
    "\n",
    "                #Now caculate the coef_\n",
    "                der_coef_ = -2 * np.dot((y_train[idx] - y_hat),x_train[idx])\n",
    "                self.coef_ = self.coef_ - (self.learning_rate * der_coef_)\n",
    "                \n",
    "        print(\"coef_ are here:\",self.coef_)\n",
    "        print(\"intercepta is here:\",self.intercept_)\n",
    "    def PredictionData(self,x_test):\n",
    "        return np.dot(x_test,self.coef_) + self.intercept_"
   ]
  },
  {
   "cell_type": "code",
   "execution_count": 139,
   "id": "2a2acc6f-14c1-4fa7-be35-7932b152e537",
   "metadata": {},
   "outputs": [],
   "source": [
    "Mbgd=MinniBatchGradientDesecent(learning_rate=0.01,epoch=30,batch_size=int(x_train.shape[0]/50))"
   ]
  },
  {
   "cell_type": "code",
   "execution_count": 140,
   "id": "11615b0e-e566-4093-88ab-4b6f602ba69e",
   "metadata": {},
   "outputs": [
    {
     "name": "stdout",
     "output_type": "stream",
     "text": [
      "coef_ are here: [  33.82830546  -21.68191072  277.17350951  196.94797961   33.08996504\n",
      "   10.28158543 -164.64331912  145.80714389  234.48049652  135.61219534]\n",
      "intercepta is here: 151.0641929880644\n"
     ]
    }
   ],
   "source": [
    "Mbgd.fitData(x_train,y_train)"
   ]
  },
  {
   "cell_type": "code",
   "execution_count": 141,
   "id": "5b833c75-9848-4ed4-b015-3d758aafe0c8",
   "metadata": {},
   "outputs": [],
   "source": [
    "y_pred=Mbgd.PredictionData(x_test)"
   ]
  },
  {
   "cell_type": "code",
   "execution_count": 142,
   "id": "5d4a9089-fa97-4c6d-bb43-3a6bff38411f",
   "metadata": {},
   "outputs": [
    {
     "name": "stdout",
     "output_type": "stream",
     "text": [
      "r2_score is: 0.31745749145850766\n"
     ]
    }
   ],
   "source": [
    "print(\"r2_score is:\",r2_score(y_test,y_pred))"
   ]
  },
  {
   "cell_type": "code",
   "execution_count": null,
   "id": "09b6833b-454f-4541-be32-b7332b515125",
   "metadata": {},
   "outputs": [],
   "source": []
  }
 ],
 "metadata": {
  "kernelspec": {
   "display_name": "Python 3 (ipykernel)",
   "language": "python",
   "name": "python3"
  },
  "language_info": {
   "codemirror_mode": {
    "name": "ipython",
    "version": 3
   },
   "file_extension": ".py",
   "mimetype": "text/x-python",
   "name": "python",
   "nbconvert_exporter": "python",
   "pygments_lexer": "ipython3",
   "version": "3.12.0"
  },
  "widgets": {
   "application/vnd.jupyter.widget-state+json": {
    "state": {},
    "version_major": 2,
    "version_minor": 0
   }
  }
 },
 "nbformat": 4,
 "nbformat_minor": 5
}
