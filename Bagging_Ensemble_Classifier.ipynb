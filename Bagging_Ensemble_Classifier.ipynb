{
 "cells": [
  {
   "cell_type": "code",
   "execution_count": 3,
   "id": "b0ccb43d-ee90-4f8e-b118-d9103a719fa9",
   "metadata": {},
   "outputs": [],
   "source": [
    "import pandas as pd\n",
    "import numpy as np\n",
    "import seaborn as sns\n",
    "from sklearn.model_selection import train_test_split\n",
    "from sklearn.tree import DecisionTreeClassifier\n",
    "from sklearn.neighbors import KNeighborsClassifier\n",
    "from sklearn.metrics import accuracy_score\n",
    "from sklearn.ensemble import BaggingClassifier\n",
    "from sklearn.datasets import make_classification"
   ]
  },
  {
   "cell_type": "code",
   "execution_count": 5,
   "id": "74f4e461-bc32-4af9-ac8f-fe31454067e1",
   "metadata": {},
   "outputs": [],
   "source": [
    "x,y=make_classification(n_samples=10000,n_features=10,n_informative=3)"
   ]
  },
  {
   "cell_type": "code",
   "execution_count": 16,
   "id": "0e5146b5-9ccb-46e9-91d5-ba996ef46927",
   "metadata": {},
   "outputs": [],
   "source": [
    "x=pd.DataFrame(x)\n",
    "y=pd.DataFrame(y)"
   ]
  },
  {
   "cell_type": "code",
   "execution_count": 24,
   "id": "7e3e3504-4c23-4c8c-a4b8-dd92f0f8be6d",
   "metadata": {},
   "outputs": [],
   "source": [
    "df=pd.concat([x,y],axis=1,ignore_index=False)"
   ]
  },
  {
   "cell_type": "code",
   "execution_count": 32,
   "id": "899d2493-d38f-47e4-b06c-a19104065544",
   "metadata": {},
   "outputs": [],
   "source": [
    "x_train,x_test,y_train,y_test=train_test_split(x,y,test_size=0.2,random_state=12)"
   ]
  },
  {
   "cell_type": "code",
   "execution_count": 38,
   "id": "db21ade6-14bc-4b04-b67e-769b40beb131",
   "metadata": {},
   "outputs": [
    {
     "name": "stdout",
     "output_type": "stream",
     "text": [
      "Single Model acheive the accuracy of: 90.8\n"
     ]
    }
   ],
   "source": [
    "Model=DecisionTreeClassifier()\n",
    "Model.fit(x_train,y_train)\n",
    "y_pred=Model.predict(x_test)\n",
    "print(\"Single Model acheive the accuracy of:\",accuracy_score(y_test,y_pred)*100)"
   ]
  },
  {
   "cell_type": "code",
   "execution_count": 46,
   "id": "7602d925-9d5b-48a3-a266-445330f596cf",
   "metadata": {},
   "outputs": [
    {
     "name": "stderr",
     "output_type": "stream",
     "text": [
      "C:\\Users\\Waris Hayyat\\AppData\\Local\\Programs\\Python\\Python312\\Lib\\site-packages\\sklearn\\ensemble\\_bagging.py:782: DataConversionWarning: A column-vector y was passed when a 1d array was expected. Please change the shape of y to (n_samples, ), for example using ravel().\n",
      "  y = column_or_1d(y, warn=True)\n"
     ]
    },
    {
     "name": "stdout",
     "output_type": "stream",
     "text": [
      "Accuracy score Bagging: 92.80000000000001\n"
     ]
    }
   ],
   "source": [
    "#Now Apply Bagging Ensemble with bootstraping  by usin Discion tree model\n",
    "bagging=BaggingClassifier(estimator=Model,n_estimators=100, max_samples=0.25,bootstrap=True)\n",
    "bagging.fit(x_train,y_train)\n",
    "y_pred=bagging.predict(x_test)\n",
    "print(\"Accuracy score Bagging:\",accuracy_score(y_test,y_pred)*100)"
   ]
  },
  {
   "cell_type": "code",
   "execution_count": 50,
   "id": "cafe6aeb-afe8-44be-a45d-235cda14ed80",
   "metadata": {},
   "outputs": [
    {
     "name": "stderr",
     "output_type": "stream",
     "text": [
      "C:\\Users\\Waris Hayyat\\AppData\\Local\\Programs\\Python\\Python312\\Lib\\site-packages\\sklearn\\neighbors\\_classification.py:238: DataConversionWarning: A column-vector y was passed when a 1d array was expected. Please change the shape of y to (n_samples,), for example using ravel().\n",
      "  return self._fit(X, y)\n"
     ]
    },
    {
     "name": "stdout",
     "output_type": "stream",
     "text": [
      "Accuracy score of KNN: 87.6\n"
     ]
    }
   ],
   "source": [
    "Model2=KNeighborsClassifier()\n",
    "Model2.fit(x_train,y_train)\n",
    "y_pred2=Model2.predict(x_test)\n",
    "print(\"Accuracy score of KNN:\",accuracy_score(y_test,y_pred2)*100)"
   ]
  },
  {
   "cell_type": "code",
   "execution_count": 53,
   "id": "55ddd782-91fd-4dbd-9a98-a9966e804dac",
   "metadata": {},
   "outputs": [
    {
     "name": "stderr",
     "output_type": "stream",
     "text": [
      "C:\\Users\\Waris Hayyat\\AppData\\Local\\Programs\\Python\\Python312\\Lib\\site-packages\\sklearn\\ensemble\\_bagging.py:782: DataConversionWarning: A column-vector y was passed when a 1d array was expected. Please change the shape of y to (n_samples, ), for example using ravel().\n",
      "  y = column_or_1d(y, warn=True)\n"
     ]
    },
    {
     "name": "stdout",
     "output_type": "stream",
     "text": [
      "Accuracy score Bagging: 87.8\n"
     ]
    }
   ],
   "source": [
    "#Now Apply Bagging Ensemble with bootstraping  by usin KnearestNeighbour\n",
    "bagging2=BaggingClassifier(estimator=Model2,n_estimators=100, max_samples=0.25,bootstrap=True)\n",
    "bagging2.fit(x_train,y_train)\n",
    "y_pred=bagging2.predict(x_test)\n",
    "print(\"Accuracy score Bagging:\",accuracy_score(y_test,y_pred)*100)"
   ]
  },
  {
   "cell_type": "code",
   "execution_count": 59,
   "id": "947f83af-0952-45ea-8b2f-58df43451715",
   "metadata": {},
   "outputs": [
    {
     "name": "stderr",
     "output_type": "stream",
     "text": [
      "C:\\Users\\Waris Hayyat\\AppData\\Local\\Programs\\Python\\Python312\\Lib\\site-packages\\sklearn\\ensemble\\_bagging.py:782: DataConversionWarning: A column-vector y was passed when a 1d array was expected. Please change the shape of y to (n_samples, ), for example using ravel().\n",
      "  y = column_or_1d(y, warn=True)\n"
     ]
    },
    {
     "name": "stdout",
     "output_type": "stream",
     "text": [
      "Accuracy score Bagging: 89.2\n",
      "(5,)\n"
     ]
    }
   ],
   "source": [
    "#Now Applaying #Random_subspace\n",
    "bagging=BaggingClassifier(estimator=Model2,n_estimators=100,bootstrap=False,max_features=0.5,bootstrap_features=True)\n",
    "bagging.fit(x_train,y_train)\n",
    "y_pred=bagging.predict(x_test)\n",
    "print(\"Accuracy score Bagging:\",accuracy_score(y_test,y_pred)*100)\n",
    "print(bagging.estimators_features_[0].shape)"
   ]
  },
  {
   "cell_type": "code",
   "execution_count": 64,
   "id": "e9e4aeb7-63fd-4667-a530-c7eeea7bfcc9",
   "metadata": {},
   "outputs": [
    {
     "name": "stderr",
     "output_type": "stream",
     "text": [
      "C:\\Users\\Waris Hayyat\\AppData\\Local\\Programs\\Python\\Python312\\Lib\\site-packages\\sklearn\\ensemble\\_bagging.py:782: DataConversionWarning: A column-vector y was passed when a 1d array was expected. Please change the shape of y to (n_samples, ), for example using ravel().\n",
      "  y = column_or_1d(y, warn=True)\n"
     ]
    },
    {
     "name": "stdout",
     "output_type": "stream",
     "text": [
      "Accuracy score Bagging: 91.85\n"
     ]
    }
   ],
   "source": [
    "#Now Apply Bagging pasting\n",
    "bagging=BaggingClassifier(estimator=Model,n_estimators=100, max_samples=0.1,bootstrap=False)\n",
    "bagging.fit(x_train,y_train)\n",
    "y_pred=bagging.predict(x_test)\n",
    "print(\"Accuracy score Bagging:\",accuracy_score(y_test,y_pred)*100)"
   ]
  },
  {
   "cell_type": "code",
   "execution_count": 65,
   "id": "1accb71a-32fb-4f59-b126-0e6dbc9ece0f",
   "metadata": {},
   "outputs": [
    {
     "name": "stderr",
     "output_type": "stream",
     "text": [
      "C:\\Users\\Waris Hayyat\\AppData\\Local\\Programs\\Python\\Python312\\Lib\\site-packages\\sklearn\\ensemble\\_bagging.py:782: DataConversionWarning: A column-vector y was passed when a 1d array was expected. Please change the shape of y to (n_samples, ), for example using ravel().\n",
      "  y = column_or_1d(y, warn=True)\n"
     ]
    },
    {
     "name": "stdout",
     "output_type": "stream",
     "text": [
      "Accuracy score Bagging: 91.64999999999999\n"
     ]
    }
   ],
   "source": [
    "#Now Apply Random_patches\n",
    "bagging=BaggingClassifier(estimator=Model,n_estimators=100, max_samples=0.5,bootstrap=True,max_features=0.5,bootstrap_features=True,verbose=1,random_state=12)\n",
    "bagging.fit(x_train,y_train)\n",
    "y_pred=bagging.predict(x_test)\n",
    "print(\"Accuracy score Bagging:\",accuracy_score(y_test,y_pred)*100)"
   ]
  },
  {
   "cell_type": "code",
   "execution_count": 67,
   "id": "1a2d3e10-b315-4ab4-b83c-9878fdf991be",
   "metadata": {},
   "outputs": [
    {
     "name": "stderr",
     "output_type": "stream",
     "text": [
      "C:\\Users\\Waris Hayyat\\AppData\\Local\\Programs\\Python\\Python312\\Lib\\site-packages\\sklearn\\ensemble\\_bagging.py:782: DataConversionWarning: A column-vector y was passed when a 1d array was expected. Please change the shape of y to (n_samples, ), for example using ravel().\n",
      "  y = column_or_1d(y, warn=True)\n"
     ]
    },
    {
     "name": "stdout",
     "output_type": "stream",
     "text": [
      "Accuracy score Bagging: 92.95\n"
     ]
    }
   ],
   "source": [
    "#OOBS OUT OF bag sample\n",
    "bagging=BaggingClassifier(estimator=Model,n_estimators=100, max_samples=0.25,bootstrap=True,oob_score=True,random_state=12)\n",
    "bagging.fit(x_train,y_train)\n",
    "y_pred=bagging.predict(x_test)\n",
    "print(\"Accuracy score Bagging:\",accuracy_score(y_test,y_pred)*100)"
   ]
  },
  {
   "cell_type": "code",
   "execution_count": 70,
   "id": "b79beeed-0843-4ecb-a949-16cd6f8b59c3",
   "metadata": {},
   "outputs": [
    {
     "name": "stdout",
     "output_type": "stream",
     "text": [
      "(2000,)\n"
     ]
    }
   ],
   "source": [
    "print(bagging.estimators_samples_[0].shape)"
   ]
  },
  {
   "cell_type": "code",
   "execution_count": null,
   "id": "2d2e0417-07e0-4630-81d2-093e0f24e0ab",
   "metadata": {},
   "outputs": [],
   "source": []
  }
 ],
 "metadata": {
  "kernelspec": {
   "display_name": "Python 3 (ipykernel)",
   "language": "python",
   "name": "python3"
  },
  "language_info": {
   "codemirror_mode": {
    "name": "ipython",
    "version": 3
   },
   "file_extension": ".py",
   "mimetype": "text/x-python",
   "name": "python",
   "nbconvert_exporter": "python",
   "pygments_lexer": "ipython3",
   "version": "3.12.0"
  },
  "widgets": {
   "application/vnd.jupyter.widget-state+json": {
    "state": {},
    "version_major": 2,
    "version_minor": 0
   }
  }
 },
 "nbformat": 4,
 "nbformat_minor": 5
}
