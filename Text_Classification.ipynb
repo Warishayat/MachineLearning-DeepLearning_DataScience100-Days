{
  "cells": [
    {
      "cell_type": "code",
      "execution_count": 1,
      "metadata": {
        "id": "v-_DTJr1krDE"
      },
      "outputs": [],
      "source": [
        "import pandas as pd\n",
        "import numpy as np"
      ]
    },
    {
      "cell_type": "code",
      "execution_count": 2,
      "metadata": {
        "colab": {
          "base_uri": "https://localhost:8080/"
        },
        "id": "x9ZNpi6llBbh",
        "outputId": "9135c934-c244-4247-bb18-a8148e7ca826"
      },
      "outputs": [
        {
          "output_type": "execute_result",
          "data": {
            "text/plain": [
              "(20000, 2)"
            ]
          },
          "metadata": {},
          "execution_count": 2
        }
      ],
      "source": [
        "df=pd.read_csv(\"/content/IMDB Dataset.csv\")\n",
        "df=df.iloc[:20000,]\n",
        "\n",
        "df.shape"
      ]
    },
    {
      "cell_type": "code",
      "execution_count": 3,
      "metadata": {
        "colab": {
          "base_uri": "https://localhost:8080/"
        },
        "id": "rt7TWbL2lSm8",
        "outputId": "df081c7a-841b-4cf2-ab89-f1d0988f571d"
      },
      "outputs": [
        {
          "output_type": "stream",
          "name": "stdout",
          "text": [
            "One of the other reviewers has mentioned that after watching just 1 Oz episode you'll be hooked. They are right, as this is exactly what happened with me.<br /><br />The first thing that struck me about Oz was its brutality and unflinching scenes of violence, which set in right from the word GO. Trust me, this is not a show for the faint hearted or timid. This show pulls no punches with regards to drugs, sex or violence. Its is hardcore, in the classic use of the word.<br /><br />It is called OZ as that is the nickname given to the Oswald Maximum Security State Penitentary. It focuses mainly on Emerald City, an experimental section of the prison where all the cells have glass fronts and face inwards, so privacy is not high on the agenda. Em City is home to many..Aryans, Muslims, gangstas, Latinos, Christians, Italians, Irish and more....so scuffles, death stares, dodgy dealings and shady agreements are never far away.<br /><br />I would say the main appeal of the show is due to the fact that it goes where other shows wouldn't dare. Forget pretty pictures painted for mainstream audiences, forget charm, forget romance...OZ doesn't mess around. The first episode I ever saw struck me as so nasty it was surreal, I couldn't say I was ready for it, but as I watched more, I developed a taste for Oz, and got accustomed to the high levels of graphic violence. Not just violence, but injustice (crooked guards who'll be sold out for a nickel, inmates who'll kill on order and get away with it, well mannered, middle class inmates being turned into prison bitches due to their lack of street skills or prison experience) Watching Oz, you may become comfortable with what is uncomfortable viewing....thats if you can get in touch with your darker side.\n",
            "<class 'pandas.core.frame.DataFrame'>\n",
            "Index: 19926 entries, 0 to 19999\n",
            "Data columns (total 2 columns):\n",
            " #   Column     Non-Null Count  Dtype \n",
            "---  ------     --------------  ----- \n",
            " 0   review     19926 non-null  object\n",
            " 1   sentiment  19926 non-null  object\n",
            "dtypes: object(2)\n",
            "memory usage: 467.0+ KB\n"
          ]
        }
      ],
      "source": [
        "df[\"sentiment\"].value_counts()\n",
        "print(df[\"review\"][0])\n",
        "df.duplicated().sum()\n",
        "df.drop_duplicates(inplace=True)\n",
        "df.duplicated().sum()\n",
        "\n",
        "df.isnull().sum()\n",
        "df.info()"
      ]
    },
    {
      "cell_type": "code",
      "execution_count": 4,
      "metadata": {
        "colab": {
          "base_uri": "https://localhost:8080/"
        },
        "id": "ZOWk5CoUoBA2",
        "outputId": "cc8db373-616a-4090-b9a2-16bf80d22899"
      },
      "outputs": [
        {
          "output_type": "stream",
          "name": "stderr",
          "text": [
            "[nltk_data] Downloading package stopwords to /root/nltk_data...\n",
            "[nltk_data]   Package stopwords is already up-to-date!\n"
          ]
        },
        {
          "output_type": "execute_result",
          "data": {
            "text/plain": [
              "True"
            ]
          },
          "metadata": {},
          "execution_count": 4
        }
      ],
      "source": [
        "import nltk\n",
        "nltk.download('stopwords')"
      ]
    },
    {
      "cell_type": "code",
      "execution_count": 5,
      "metadata": {
        "id": "okWNSON4ld-s"
      },
      "outputs": [],
      "source": [
        "import re\n",
        "from nltk.corpus import stopwords\n",
        "def preprocessing_data(text):\n",
        "\n",
        "    text =text.lower() #convert the text into the lower case\n",
        "\n",
        "    tags = re.compile(\"<.*?>\")\n",
        "    text=re.sub(tags,\" \",text) #to remove htmls tags.\n",
        "\n",
        "    #now remove urls\n",
        "    urls = re.compile(r'https?://\\S+|www\\.\\S+')\n",
        "    text = re.sub(urls,\" \",text)\n",
        "\n",
        "    #removing_stopwords\n",
        "    new_text=[]\n",
        "    for w in text.split():\n",
        "        if w in stopwords.words(\"english\"):\n",
        "            new_text.append(\"\")\n",
        "        else:\n",
        "            new_text.append(w)\n",
        "    return \" \".join(new_text)\n"
      ]
    },
    {
      "cell_type": "code",
      "execution_count": 6,
      "metadata": {
        "id": "v7kTmGOeliqw"
      },
      "outputs": [],
      "source": [
        "df[\"review\"]=df[\"review\"].apply(preprocessing_data)\n"
      ]
    },
    {
      "cell_type": "code",
      "execution_count": 7,
      "metadata": {
        "colab": {
          "base_uri": "https://localhost:8080/"
        },
        "id": "XptZMnQZp0oJ",
        "outputId": "9c5643f2-5c9b-4da7-c1ab-64a794c2c5bc"
      },
      "outputs": [
        {
          "output_type": "execute_result",
          "data": {
            "text/plain": [
              "(19926, 2)"
            ]
          },
          "metadata": {},
          "execution_count": 7
        }
      ],
      "source": [
        "df.head()\n",
        "df.shape"
      ]
    },
    {
      "cell_type": "code",
      "execution_count": 8,
      "metadata": {
        "colab": {
          "base_uri": "https://localhost:8080/"
        },
        "id": "f-mF4tvwliic",
        "outputId": "a3b85edc-4d7d-4582-9cbe-a743c79233ac"
      },
      "outputs": [
        {
          "output_type": "execute_result",
          "data": {
            "text/plain": [
              "(19926, 2)"
            ]
          },
          "metadata": {},
          "execution_count": 8
        }
      ],
      "source": [
        "#now labelencoder to final_columns\n",
        "\n",
        "from sklearn.preprocessing import LabelEncoder\n",
        "\n",
        "encoder = LabelEncoder()\n",
        "df[\"sentiment\"]=encoder.fit_transform(df[\"sentiment\"])\n",
        "\n",
        "df.head(4)\n",
        "df.shape"
      ]
    },
    {
      "cell_type": "code",
      "execution_count": 9,
      "metadata": {
        "colab": {
          "base_uri": "https://localhost:8080/"
        },
        "id": "SGNM7Wt6lpqs",
        "outputId": "0e6b7357-cf4d-4bf6-d355-17663c63889f"
      },
      "outputs": [
        {
          "output_type": "execute_result",
          "data": {
            "text/plain": [
              "((19926, 1), (19926, 1))"
            ]
          },
          "metadata": {},
          "execution_count": 9
        }
      ],
      "source": [
        "X=df.iloc[:,:-1]\n",
        "y=df.iloc[:,-1:]\n",
        "X.shape,y.shape"
      ]
    },
    {
      "cell_type": "code",
      "execution_count": 10,
      "metadata": {
        "colab": {
          "base_uri": "https://localhost:8080/"
        },
        "id": "Setja_6llqcC",
        "outputId": "5b3de6ed-77af-4ab7-fcb6-7e809738d839"
      },
      "outputs": [
        {
          "output_type": "execute_result",
          "data": {
            "text/plain": [
              "((15940, 1), (3986, 1), (15940, 1), (3986, 1))"
            ]
          },
          "metadata": {},
          "execution_count": 10
        }
      ],
      "source": [
        "#train test the data for modle\n",
        "from sklearn.model_selection import train_test_split\n",
        "\n",
        "X_train,X_test,y_train,y_test = train_test_split(X,y,test_size=0.2,random_state=12)\n",
        "X_train.shape,X_test.shape,y_train.shape,y_test.shape"
      ]
    },
    {
      "cell_type": "code",
      "execution_count": 10,
      "metadata": {
        "id": "VlS_Q-iCrEG9"
      },
      "outputs": [],
      "source": []
    },
    {
      "cell_type": "markdown",
      "metadata": {
        "id": "iuab8Qnm4OAm"
      },
      "source": [
        "# Bag of words"
      ]
    },
    {
      "cell_type": "code",
      "execution_count": 11,
      "metadata": {
        "id": "irKO54S5lxM7"
      },
      "outputs": [],
      "source": [
        "#now convert text into the bow:\n",
        "from sklearn.feature_extraction.text import CountVectorizer\n",
        "cv = CountVectorizer(max_features=3000)\n",
        "X_train_bow=cv.fit_transform(X_train[\"review\"]).toarray()\n",
        "X_test_bow = cv.transform(X_test[\"review\"]).toarray()"
      ]
    },
    {
      "cell_type": "code",
      "execution_count": 12,
      "metadata": {
        "id": "ExqVNEZRqRFw",
        "colab": {
          "base_uri": "https://localhost:8080/"
        },
        "outputId": "8d345223-ceb3-42aa-e914-79f75deca0b0"
      },
      "outputs": [
        {
          "output_type": "stream",
          "name": "stderr",
          "text": [
            "/usr/local/lib/python3.10/dist-packages/sklearn/utils/validation.py:1183: DataConversionWarning: A column-vector y was passed when a 1d array was expected. Please change the shape of y to (n_samples, ), for example using ravel().\n",
            "  y = column_or_1d(y, warn=True)\n"
          ]
        },
        {
          "output_type": "stream",
          "name": "stdout",
          "text": [
            "0.7824887104867034\n",
            "[[1695  292]\n",
            " [ 575 1424]]\n",
            "              precision    recall  f1-score   support\n",
            "\n",
            "           0       0.75      0.85      0.80      1987\n",
            "           1       0.83      0.71      0.77      1999\n",
            "\n",
            "    accuracy                           0.78      3986\n",
            "   macro avg       0.79      0.78      0.78      3986\n",
            "weighted avg       0.79      0.78      0.78      3986\n",
            "\n"
          ]
        }
      ],
      "source": [
        "from sklearn.naive_bayes import GaussianNB\n",
        "model = GaussianNB()\n",
        "model.fit(X_train_bow,y_train)\n",
        "\n",
        "y_pred = model.predict(X_test_bow)\n",
        "from sklearn.metrics import accuracy_score,confusion_matrix,classification_report\n",
        "print(accuracy_score(y_test,y_pred))\n",
        "print(confusion_matrix(y_test,y_pred))\n",
        "print(classification_report(y_test,y_pred))\n"
      ]
    },
    {
      "cell_type": "code",
      "execution_count": 13,
      "metadata": {
        "id": "Ja0FDJa444Br",
        "colab": {
          "base_uri": "https://localhost:8080/",
          "height": 486
        },
        "outputId": "5c5fad4a-c661-4a07-f4aa-cd2ca1fca5a0"
      },
      "outputs": [
        {
          "output_type": "execute_result",
          "data": {
            "text/plain": [
              "(<Figure size 640x480 with 1 Axes>,\n",
              " <Axes: xlabel='predicted label', ylabel='true label'>)"
            ]
          },
          "metadata": {},
          "execution_count": 13
        },
        {
          "output_type": "display_data",
          "data": {
            "text/plain": [
              "<Figure size 640x480 with 1 Axes>"
            ],
            "image/png": "[encoded data removed]"
          },
          "metadata": {}
        }
      ],
      "source": [
        "from mlxtend.plotting import plot_confusion_matrix\n",
        "cm = confusion_matrix(y_test,y_pred)\n",
        "plot_confusion_matrix(cm)"
      ]
    },
    {
      "cell_type": "markdown",
      "metadata": {
        "id": "JsMJCEf84Vb-"
      },
      "source": [
        "# N-GRAM"
      ]
    },
    {
      "cell_type": "code",
      "execution_count": 14,
      "metadata": {
        "id": "Xg5SjEk3qqUb"
      },
      "outputs": [],
      "source": [
        "#now convert text into the bow:\n",
        "from sklearn.feature_extraction.text import CountVectorizer\n",
        "cv = CountVectorizer(ngram_range=(2,2),max_features=3000)\n",
        "X_train_bow= cv.fit_transform(X_train[\"review\"]).toarray()\n",
        "X_test_bow = cv.transform(X_test[\"review\"]).toarray()"
      ]
    },
    {
      "cell_type": "code",
      "execution_count": 15,
      "metadata": {
        "id": "4HvqaMg34q-4",
        "colab": {
          "base_uri": "https://localhost:8080/"
        },
        "outputId": "3c4562f3-e62f-4390-9d9a-1f580fc9414e"
      },
      "outputs": [
        {
          "output_type": "stream",
          "name": "stderr",
          "text": [
            "/usr/local/lib/python3.10/dist-packages/sklearn/utils/validation.py:1183: DataConversionWarning: A column-vector y was passed when a 1d array was expected. Please change the shape of y to (n_samples, ), for example using ravel().\n",
            "  y = column_or_1d(y, warn=True)\n"
          ]
        },
        {
          "output_type": "stream",
          "name": "stdout",
          "text": [
            "0.7636728549924736\n",
            "[[1308  679]\n",
            " [ 263 1736]]\n",
            "              precision    recall  f1-score   support\n",
            "\n",
            "           0       0.83      0.66      0.74      1987\n",
            "           1       0.72      0.87      0.79      1999\n",
            "\n",
            "    accuracy                           0.76      3986\n",
            "   macro avg       0.78      0.76      0.76      3986\n",
            "weighted avg       0.78      0.76      0.76      3986\n",
            "\n"
          ]
        }
      ],
      "source": [
        "from sklearn.naive_bayes import GaussianNB\n",
        "model = GaussianNB()\n",
        "model.fit(X_train_bow,y_train)\n",
        "\n",
        "y_pred = model.predict(X_test_bow)\n",
        "from sklearn.metrics import accuracy_score,confusion_matrix,classification_report\n",
        "print(accuracy_score(y_test,y_pred))\n",
        "print(confusion_matrix(y_test,y_pred))\n",
        "print(classification_report(y_test,y_pred))\n"
      ]
    },
    {
      "cell_type": "code",
      "execution_count": 16,
      "metadata": {
        "id": "BFivmruU4vA5",
        "colab": {
          "base_uri": "https://localhost:8080/",
          "height": 486
        },
        "outputId": "c8a6bb10-62f3-472a-e031-228f84824c64"
      },
      "outputs": [
        {
          "output_type": "execute_result",
          "data": {
            "text/plain": [
              "(<Figure size 640x480 with 1 Axes>,\n",
              " <Axes: xlabel='predicted label', ylabel='true label'>)"
            ]
          },
          "metadata": {},
          "execution_count": 16
        },
        {
          "output_type": "display_data",
          "data": {
            "text/plain": [
              "<Figure size 640x480 with 1 Axes>"
            ],
            "image/png": "[encoded data removed]"
          },
          "metadata": {}
        }
      ],
      "source": [
        "from mlxtend.plotting import plot_confusion_matrix\n",
        "cm = confusion_matrix(y_test,y_pred)\n",
        "plot_confusion_matrix(cm)"
      ]
    },
    {
      "cell_type": "markdown",
      "metadata": {
        "id": "OHCV2Agw49WP"
      },
      "source": [
        "# TF-IDF"
      ]
    },
    {
      "cell_type": "code",
      "execution_count": 17,
      "metadata": {
        "id": "M2OutGwF45Zb"
      },
      "outputs": [],
      "source": [
        "#now convert text into the bow:\n",
        "from sklearn.feature_extraction.text import TfidfVectorizer\n",
        "cv = TfidfVectorizer()\n",
        "X_train_bow= cv.fit_transform(X_train[\"review\"]).toarray()\n",
        "X_test_bow = cv.transform(X_test[\"review\"]).toarray()"
      ]
    },
    {
      "cell_type": "code",
      "execution_count": null,
      "metadata": {
        "id": "LpiKFlE95OJf",
        "colab": {
          "base_uri": "https://localhost:8080/"
        },
        "outputId": "31d87fc3-0a98-4c46-a676-1fc805372008"
      },
      "outputs": [
        {
          "output_type": "stream",
          "name": "stderr",
          "text": [
            "/usr/local/lib/python3.10/dist-packages/sklearn/utils/validation.py:1183: DataConversionWarning: A column-vector y was passed when a 1d array was expected. Please change the shape of y to (n_samples, ), for example using ravel().\n",
            "  y = column_or_1d(y, warn=True)\n"
          ]
        }
      ],
      "source": [
        "from sklearn.naive_bayes import GaussianNB\n",
        "model = GaussianNB()\n",
        "model.fit(X_train_bow,y_train)\n",
        "\n",
        "y_pred = model.predict(X_test_bow)\n",
        "from sklearn.metrics import accuracy_score,confusion_matrix,classification_report\n",
        "print(accuracy_score(y_test,y_pred))"
      ]
    },
    {
      "cell_type": "markdown",
      "metadata": {
        "id": "bFxp207z5WB_"
      },
      "source": [
        "WORD2VEC"
      ]
    },
    {
      "cell_type": "code",
      "execution_count": null,
      "metadata": {
        "id": "TDdffJFH5joN"
      },
      "outputs": [],
      "source": [
        "model = Word2Vec(window=10,min_count=5)"
      ]
    }
  ],
  "metadata": {
    "accelerator": "GPU",
    "colab": {
      "gpuType": "T4",
      "provenance": []
    },
    "kernelspec": {
      "display_name": "Python 3",
      "name": "python3"
    },
    "language_info": {
      "name": "python"
    }
  },
  "nbformat": 4,
  "nbformat_minor": 0
}